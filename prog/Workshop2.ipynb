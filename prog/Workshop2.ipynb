{
 "cells": [
  {
   "cell_type": "markdown",
   "metadata": {},
   "source": [
    "# Workshop 1 Basic Python Code and Statistic Concepts\n",
    "\n",
    "## Introduction\n",
    "\n",
    "Reference: Danish Harron: \"Python Machine Learning case Studies\" Chapter 1. 2017.\n",
    "\n",
    "This workshop reviews the concepts of statistics and probability and gets students/participants to familiar with some Python code for the data analytics been used later for A/B Test applications.\n",
    "\n",
    "The case here about two staff assigned with the task of determining the brand persona for a new cycke share scheme.\n",
    "\n",
    "The analytics is used to present their results at the annual borad meeting in oder to lay out a proposal to enhance user experience.\n",
    "\n",
    "The following libraries are imported to do the calculation (A typical Python programme makes use of other people open source codes to develop the algorithm for particular application)\n",
    "\n",
    "Jupyter notebook is the interface platform for Python high level programme language that one can insert explanations and the codes, along the context as a document so that any readers can follow through the usage of the code and understand the underlying procedures.  Jupyter notebook is very common for python data scientist for mutual reference.    "
   ]
  },
  {
   "cell_type": "code",
   "execution_count": null,
   "metadata": {},
   "outputs": [],
   "source": [
    "%matplotlib inline\n",
    "import random\n",
    "import datetime\n",
    "import pandas as pd\n",
    "import matplotlib.pyplot as plt\n",
    "import statistics\n",
    "import numpy as np\n",
    "import scipy\n",
    "from scipy import stats\n",
    "import seaborn"
   ]
  },
  {
   "cell_type": "markdown",
   "metadata": {},
   "source": [
    "## Python libraries: \n",
    "\n",
    "random, datetime for common language program function\n",
    "\n",
    "pandas for data file  or database manilpulation\n",
    "\n",
    "seaborn for data visulation\n",
    "\n",
    "statistics, numpy and scipy are for statistical and mathematical formula/function"
   ]
  },
  {
   "cell_type": "code",
   "execution_count": null,
   "metadata": {},
   "outputs": [],
   "source": [
    "data = pd.read_csv('trip.csv')"
   ]
  },
  {
   "cell_type": "code",
   "execution_count": null,
   "metadata": {},
   "outputs": [],
   "source": [
    "print(len(data))\n",
    "data.head()"
   ]
  },
  {
   "cell_type": "code",
   "execution_count": null,
   "metadata": {},
   "outputs": [],
   "source": [
    "data = data.sort_values(by='starttime')\n",
    "data.reset_index()\n",
    "print('Date range of dataset: %s - %s'%(data.loc[1, 'starttime'], data.loc[len(data)-1, 'stoptime']))"
   ]
  },
  {
   "cell_type": "code",
   "execution_count": null,
   "metadata": {},
   "outputs": [],
   "source": [
    "groupby_user = data.groupby('usertype').size()\n",
    "groupby_user.plot.bar(title = 'Distribution of user types')"
   ]
  },
  {
   "cell_type": "code",
   "execution_count": null,
   "metadata": {},
   "outputs": [],
   "source": [
    "groupby_gender = data.groupby('gender').size()\n",
    "groupby_gender.plot.bar(title = 'Distribution of genders')"
   ]
  },
  {
   "cell_type": "code",
   "execution_count": null,
   "metadata": {},
   "outputs": [],
   "source": [
    "data = data.sort_values(by='birthyear')\n",
    "groupby_birthyear = data.groupby('birthyear').size()\n",
    "groupby_birthyear.plot.bar(title = 'Distribution of birth years', figsize = (15,4))"
   ]
  },
  {
   "cell_type": "code",
   "execution_count": null,
   "metadata": {},
   "outputs": [],
   "source": [
    "\n",
    "data_mil = data[(data['birthyear'] >= 1977) & (data['birthyear']<=1994)]\n",
    "groupby_mil = data_mil.groupby('usertype').size()\n",
    "groupby_mil.plot.bar(title = 'Distribution of user types')"
   ]
  },
  {
   "cell_type": "code",
   "execution_count": null,
   "metadata": {},
   "outputs": [],
   "source": [
    "groupby_birthyear_gender = data.groupby(['birthyear', 'gender'])['birthyear'].count().unstack('gender').fillna(0)\n",
    "groupby_birthyear_gender[['Male','Female','Other']].plot.bar(title = 'Distribution of birth years by Gender', stacked=True, figsize = (15,4))\n"
   ]
  },
  {
   "cell_type": "code",
   "execution_count": null,
   "metadata": {},
   "outputs": [],
   "source": [
    "groupby_birthyear_user = data.groupby(['birthyear', 'usertype'])['birthyear'].count().unstack('usertype').fillna(0)\n",
    "groupby_birthyear_user['Member'].plot.bar(title = 'Distribution of birth years by Usertype', stacked=True, figsize = (15,4))"
   ]
  },
  {
   "cell_type": "code",
   "execution_count": null,
   "metadata": {},
   "outputs": [],
   "source": [
    "data[data['usertype']=='Short-Term Pass Holder']['birthyear'].isnull().values.all()"
   ]
  },
  {
   "cell_type": "code",
   "execution_count": null,
   "metadata": {},
   "outputs": [],
   "source": [
    "data[data['usertype']=='Short-Term Pass Holder']['gender'].isnull().values.all()"
   ]
  },
  {
   "cell_type": "code",
   "execution_count": null,
   "metadata": {},
   "outputs": [],
   "source": [
    "List_ = list(data['starttime'])\n",
    "\n",
    "List_ = [datetime.datetime.strptime(x, \"%m/%d/%Y %H:%M\") for x in List_]\n",
    "data['starttime_mod'] = pd.Series(List_,index=data.index)\n",
    "data['starttime_date'] = pd.Series([x.date() for x in List_],index=data.index)\n",
    "data['starttime_year'] = pd.Series([x.year for x in List_],index=data.index)\n",
    "data['starttime_month'] = pd.Series([x.month for x in List_],index=data.index)\n",
    "data['starttime_day'] = pd.Series([x.day for x in List_],index=data.index)\n",
    "data['starttime_hour'] = pd.Series([x.hour for x in List_],index=data.index)"
   ]
  },
  {
   "cell_type": "code",
   "execution_count": null,
   "metadata": {},
   "outputs": [],
   "source": [
    "data.groupby('starttime_date')['tripduration'].mean().plot.bar(title = 'Distribution of Trip duration by date', figsize = (15,4))"
   ]
  },
  {
   "cell_type": "code",
   "execution_count": null,
   "metadata": {},
   "outputs": [],
   "source": [
    "# Excercise 1.  Determine the distribution of number of trips by year.  Do you see a specific pattern?\n",
    "data.groupby('starttime_year')['trip_id'].sum().plot.bar(title = 'Distribution of number of trips by year', figsize = (15,4))"
   ]
  },
  {
   "cell_type": "code",
   "execution_count": null,
   "metadata": {},
   "outputs": [],
   "source": [
    "# Excercise 2.  Determine the distribution of number of trips by month.  Do you see a specific pattern?\n",
    "data.groupby('starttime_month')['trip_id'].sum().plot.bar(title = 'Distribution of number of trips by month', figsize = (15,4))"
   ]
  },
  {
   "cell_type": "code",
   "execution_count": null,
   "metadata": {
    "scrolled": true
   },
   "outputs": [],
   "source": [
    "# Excercise 3.  Determine the distribution of number of trips by day.  Do you see a specific pattern?\n",
    "data.groupby('starttime_day')['trip_id'].sum().plot.bar(title = 'Distribution of number of trips by day', figsize = (15,4))"
   ]
  },
  {
   "cell_type": "code",
   "execution_count": null,
   "metadata": {},
   "outputs": [],
   "source": [
    "# Excercise 4.  Determine the distribution of number of trips by day.  Do you see a specific pattern?\n",
    "# I think they meant hour here?\n",
    "data.groupby('starttime_hour')['trip_id'].sum().plot.bar(title = 'Distribution of number of trips by hour', figsize = (15,4))"
   ]
  },
  {
   "cell_type": "code",
   "execution_count": null,
   "metadata": {},
   "outputs": [],
   "source": [
    "# Excercise 5.  Plot a frequency distribution of trips on a daily basis\n",
    "data.groupby('starttime_date')['trip_id'].sum().plot.bar(title = 'Distribution of number of trips by day', figsize = (15,4))"
   ]
  },
  {
   "cell_type": "code",
   "execution_count": null,
   "metadata": {
    "scrolled": true
   },
   "outputs": [],
   "source": [
    "# Excercise 5.  Plot a frequency distribution of trips on a daily basis\n",
    "data.groupby('starttime_date')['trip_id'].sum().plot.hist(bins=100, title = 'Distribution of number of trips by day', figsize = (15,4))"
   ]
  },
  {
   "cell_type": "code",
   "execution_count": null,
   "metadata": {},
   "outputs": [],
   "source": []
  },
  {
   "cell_type": "code",
   "execution_count": null,
   "metadata": {},
   "outputs": [],
   "source": [
    "trip_duration = list(data['tripduration'])\n",
    "station_from = list(data['from_station_name'])\n",
    "print('Mean of trip duration: %f'%statistics.mean(trip_duration))\n",
    "print('Median of trip duration: %f'%statistics.median(trip_duration))\n",
    "print('Mode of station originating from: %s'%statistics.mode(station_from))"
   ]
  },
  {
   "cell_type": "code",
   "execution_count": null,
   "metadata": {},
   "outputs": [],
   "source": [
    "data['tripduration'].plot.hist(bins=100, title='Frequency distribution of Trip duration')\n",
    "plt.show()"
   ]
  },
  {
   "cell_type": "code",
   "execution_count": null,
   "metadata": {},
   "outputs": [],
   "source": [
    "# Notes:\n",
    "# [Q1 – 1.5 (IQR) ,  Q3 + 1.5 (IQR) ] (i.e. IQR = Q3 - Q1)\n",
    "# Number of outliers values = Length of all values - Length of all non outliers values\n",
    "# Ratio of outliers = ( Number of outliers values / Length of all values ) * 100"
   ]
  },
  {
   "cell_type": "code",
   "execution_count": null,
   "metadata": {},
   "outputs": [],
   "source": [
    "box = data.boxplot(column=['tripduration'])\n",
    "plt.show()"
   ]
  },
  {
   "cell_type": "code",
   "execution_count": null,
   "metadata": {},
   "outputs": [],
   "source": [
    "q75, q25 = np.percentile(trip_duration, [75 ,25])\n",
    "iqr = q75 - q25\n",
    "print('Proportion of values as outlier: %f percent'%(\n",
    "    (len(data) - len([x for x in trip_duration if q75+(1.5*iqr) >=x>= q25-(1.5*iqr)]))*100/float(len(data))))"
   ]
  },
  {
   "cell_type": "code",
   "execution_count": null,
   "metadata": {},
   "outputs": [],
   "source": [
    "mean_trip_duration = np.mean([x for x in trip_duration if q75+(1.5*iqr) >=x>= q25-(1.5*iqr)])\n",
    "upper_whisker = q75+(1.5*iqr)\n",
    "print('Mean of trip duration: %f'%mean_trip_duration)"
   ]
  },
  {
   "cell_type": "code",
   "execution_count": null,
   "metadata": {},
   "outputs": [],
   "source": [
    "def transform_tripduration(x):\n",
    "    \n",
    "    if x > upper_whisker:\n",
    "        return mean_trip_duration\n",
    "    return x\n",
    "\n",
    "data['tripduration_mean'] = data['tripduration'].apply(lambda x: transform_tripduration(x))\n",
    "\n",
    "data['tripduration_mean'].plot.hist(bins=100, title='Frequency distribution of mean transformed Trip duration')\n",
    "plt.show()"
   ]
  },
  {
   "cell_type": "code",
   "execution_count": null,
   "metadata": {},
   "outputs": [],
   "source": [
    "print('Mean of trip duration: %f'%data['tripduration_mean'].mean())\n",
    "print('Standard deviation of trip duration: %f'%data['tripduration_mean'].std())\n",
    "print('Median of trip duration: %f'%data['tripduration_mean'].median())"
   ]
  },
  {
   "cell_type": "code",
   "execution_count": null,
   "metadata": {},
   "outputs": [],
   "source": [
    "# Excercise 1.  Find the mean, median, and mode of the trip duration of gender type male.\n",
    "male_trip_duration = list(data[data['gender'] == 'Male']['tripduration'])\n",
    "\n",
    "print('Male Mean of trip duration: %f'%statistics.mean(male_trip_duration))\n",
    "print('Male Median of trip duration: %f'%statistics.median(male_trip_duration))\n",
    "print('Male Mode of trip duration: %s'%statistics.mode(male_trip_duration))"
   ]
  },
  {
   "cell_type": "code",
   "execution_count": null,
   "metadata": {},
   "outputs": [],
   "source": [
    "# Excercise 2. By looking at the numbers obtained earlier, in your opinion is the distribution symmetric or skewed? \n",
    "# If skewed, then is it positively skewed or negatively skewed?\n",
    "# Slightly skewed, positively"
   ]
  },
  {
   "cell_type": "code",
   "execution_count": null,
   "metadata": {},
   "outputs": [],
   "source": [
    "# Excercise 3. Plot a frequency distribution of trip duration for trips availed by gender type male. \n",
    "# Does it validate your inference as you did so in the previous question?\n",
    "data[data['gender'] == 'Male']['tripduration'].plot.hist(bins=100, title='Frequency distribution of Male Trip duration')\n",
    "plt.show()"
   ]
  },
  {
   "cell_type": "code",
   "execution_count": null,
   "metadata": {},
   "outputs": [],
   "source": [
    "# Excercise 4. Plot a box plot of the trip duration of trips taken by males. Do you think any outliers exist?\n",
    "box = data[data['gender'] == 'Male'].boxplot(column=['tripduration'])\n",
    "plt.show()"
   ]
  },
  {
   "cell_type": "code",
   "execution_count": null,
   "metadata": {},
   "outputs": [],
   "source": [
    "# Exercise 5. Apply the formula in Listing 1-6 to determine the percentage of observations for which outliers exists.\n",
    "q75, q25 = np.percentile(male_trip_duration, [75 ,25])\n",
    "iqr = q75 - q25\n",
    "print('Proportion of values as outlier: %f percent'%(\n",
    "    (len(male_trip_duration) - len([x for x in male_trip_duration if q75+(1.5*iqr) >=x>= q25-(1.5*iqr)]))*100/float(len(male_trip_duration))))"
   ]
  },
  {
   "cell_type": "code",
   "execution_count": null,
   "metadata": {},
   "outputs": [],
   "source": [
    "# Exercise 6. Perform the treatment of outliers by incorporating one of the methods we discussed earlier for the treatment of outliers.\n",
    "male_mean_trip_duration = np.mean([x for x in male_trip_duration if q75+(1.5*iqr) >=x>= q25-(1.5*iqr)])\n",
    "male_upper_whisker = q75+(1.5*iqr)\n",
    "\n",
    "def male_transform_tripduration(x):\n",
    "    \n",
    "    if x > male_upper_whisker:\n",
    "        return male_mean_trip_duration\n",
    "    return x\n",
    "\n",
    "data['male_tripduration_mean'] = data['tripduration'].apply(lambda x: male_transform_tripduration(x))\n",
    "\n",
    "data[data['gender'] == 'Male']['male_tripduration_mean'].plot.hist(bins=100, title='Frequency distribution of male mean transformed Trip duration')\n",
    "plt.show()\n"
   ]
  },
  {
   "cell_type": "code",
   "execution_count": null,
   "metadata": {},
   "outputs": [],
   "source": []
  },
  {
   "cell_type": "code",
   "execution_count": null,
   "metadata": {},
   "outputs": [],
   "source": []
  },
  {
   "cell_type": "code",
   "execution_count": null,
   "metadata": {},
   "outputs": [],
   "source": [
    "data = data.dropna()\n",
    "data['age'] = data['starttime_year'] - data['birthyear']\n",
    "seaborn.pairplot(data, vars=['age', 'tripduration'], kind='reg')\n",
    "plt.show()"
   ]
  },
  {
   "cell_type": "code",
   "execution_count": null,
   "metadata": {},
   "outputs": [],
   "source": [
    "pd.set_option('display.width', 100)\n",
    "pd.set_option('precision', 3)\n",
    "\n",
    "correlations = data[['tripduration','age']].corr(method='pearson')\n",
    "print(correlations)"
   ]
  },
  {
   "cell_type": "code",
   "execution_count": null,
   "metadata": {
    "scrolled": true
   },
   "outputs": [],
   "source": [
    "data = pd.read_csv('trip.csv')\n",
    "\n",
    "List_ = list(data['starttime'])\n",
    "\n",
    "List_ = [datetime.datetime.strptime(x, \"%m/%d/%Y %H:%M\") for x in List_]\n",
    "data['starttime_mod'] = pd.Series(List_,index=data.index)\n",
    "data['starttime_date'] = pd.Series([x.date() for x in List_],index=data.index)\n",
    "data['starttime_year'] = pd.Series([x.year for x in List_],index=data.index)\n",
    "data['starttime_month'] = pd.Series([x.month for x in List_],index=data.index)\n",
    "data['starttime_day'] = pd.Series([x.day for x in List_],index=data.index)\n",
    "data['starttime_hour'] = pd.Series([x.hour for x in List_],index=data.index)\n",
    "\n",
    "for cat in ['gender','usertype']:\n",
    "\n",
    "    print('Category: %s\\n'%cat)\n",
    "    groupby_category = data.groupby(['starttime_date', cat])['starttime_date'].count().unstack(cat)\n",
    "    groupby_category = groupby_category.dropna()\n",
    "    category_names = list(groupby_category.columns)\n",
    "\n",
    "    for comb in [(category_names[i],category_names[j]) for i in range(len(category_names)) for j in range(i+1, len(category_names))]:\n",
    "\n",
    "        print('%s %s'%(comb[0], comb[1]))\n",
    "        t_statistics = stats.ttest_ind(list(groupby_category[comb[0]]), list(groupby_category[comb[1]]))\n",
    "        print('Statistic: %f, P value: %f'%(t_statistics.statistic, t_statistics.pvalue))\n",
    "        print('\\n')"
   ]
  },
  {
   "cell_type": "code",
   "execution_count": null,
   "metadata": {},
   "outputs": [],
   "source": [
    "daily_tickets = list(data.groupby('starttime_date').size())\n",
    "sample_tickets = []\n",
    "checkpoints = [1, 10, 100, 300, 500, 1000]\n",
    "plot_count = 1\n",
    "\n",
    "random.shuffle(daily_tickets)\n",
    "\n",
    "plt.figure(figsize=(15,7))\n",
    "binrange=np.array(np.linspace(0,700,101))\n",
    "\n",
    "for i in range(1000):\n",
    "    if daily_tickets:\n",
    "        sample_tickets.append(daily_tickets.pop())\n",
    "\n",
    "    if i+1 in checkpoints or not daily_tickets:\n",
    "        plt.subplot(2,3,plot_count)\n",
    "        plt.hist(sample_tickets, binrange)\n",
    "        plt.title('n=%d' % (i+1),fontsize=15)        \n",
    "        plot_count+=1\n",
    "\n",
    "    if not daily_tickets:\n",
    "        break\n",
    "        \n",
    "plt.show()"
   ]
  },
  {
   "cell_type": "code",
   "execution_count": null,
   "metadata": {},
   "outputs": [],
   "source": []
  }
 ],
 "metadata": {
  "kernelspec": {
   "display_name": "Python 3",
   "language": "python",
   "name": "python3"
  },
  "language_info": {
   "codemirror_mode": {
    "name": "ipython",
    "version": 3
   },
   "file_extension": ".py",
   "mimetype": "text/x-python",
   "name": "python",
   "nbconvert_exporter": "python",
   "pygments_lexer": "ipython3",
   "version": "3.7.1"
  }
 },
 "nbformat": 4,
 "nbformat_minor": 2
}
