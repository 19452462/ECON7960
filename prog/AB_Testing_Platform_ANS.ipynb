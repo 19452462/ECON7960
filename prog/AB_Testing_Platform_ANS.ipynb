{
  "metadata": {
    "kernelspec": {
      "name": "python3",
      "display_name": "Python 3",
      "language": "python"
    },
    "language_info": {
      "mimetype": "text/x-python",
      "nbconvert_exporter": "python",
      "name": "python",
      "file_extension": ".py",
      "version": "3.5.4",
      "pygments_lexer": "ipython3",
      "codemirror_mode": {
        "version": 3,
        "name": "ipython"
      }
    }
  },
  "nbformat_minor": 2,
  "nbformat": 4,
  "cells": [
    {
      "cell_type": "markdown",
      "source": "\n\n# Workshop 1 Basic Python Code and Simple A/B Test on Landing Page\n\n## Introduction\n\nThe first workshop reviews the concepts of Python code syntax and gets students/participants to familiar with Jupyter Notebook settings in data analytics been used for A/B Test applications. Jupyter notebook is very common for python data scientist for mutual reference.\n\nJupyter notebook is an interface platform for Python high level programme language that one can insert explanations and the codes along the context as a document so that any readers can follow through the usage of the code and understand the underlying procedures. It is a requirement that student should practise insert explanations about their added codes in answering to the workshop exercise. \n\nThe case here is borrowed from an online learning course https://www.udacity.com/course/ab-testing--ud257 which is designed to experiment on the response to the landing page of a web site.\n\nThe following libraries are imported to do the calculation (A typical Python programme makes use of other people open source codes to develop the algorithm for a particular application)\n",
      "metadata": {}
    },
    {
      "cell_type": "markdown",
      "source": "### Python libraries:\n\nrandom, datetime, decimal for common language program function\n\npandas for data file or database manilpulation\n\nstatistics, numpy and scipy are for statistical and mathematical formula/function",
      "metadata": {}
    },
    {
      "cell_type": "code",
      "source": "from scipy import stats\nimport pandas as pd\nimport numpy as np\nimport random\nimport statsmodels\nfrom decimal import *\ngetcontext().prec = 6",
      "metadata": {
        "trusted": true
      },
      "execution_count": 1,
      "outputs": []
    },
    {
      "cell_type": "markdown",
      "source": "Import matplotlib.pyplot for graphics and data virualisation and \"api\" is other type using complied other programme for calculation \n",
      "metadata": {}
    },
    {
      "cell_type": "code",
      "source": "import matplotlib.pyplot as plt\n%matplotlib inline",
      "metadata": {
        "trusted": true
      },
      "execution_count": 2,
      "outputs": []
    },
    {
      "cell_type": "code",
      "source": "import statsmodels.api as sm",
      "metadata": {
        "trusted": true
      },
      "execution_count": 3,
      "outputs": []
    },
    {
      "cell_type": "markdown",
      "source": "## Table of Contents\n\nPart I - Explanatory Data Analysis\n\nPart II - A/B Test\n\nA/B tests are very commonly performed by data analysts and data scientists.\n\nIn this project I will go through the results of an A/B test run by an e-commerce website. The goal is to work through this notebook to help the company understand if they should implement the new page, keep the old page, or perhaps run the experiment longer to make their decision.\n\n\n### Part I - Explanatory Data Analysis\nFirst I will import the data from \"ab_data.csv\" using the pandas command pd.read_csv(\"filename\") ",
      "metadata": {}
    },
    {
      "cell_type": "code",
      "source": "df = pd.read_csv(\"ab_data.csv\")",
      "metadata": {
        "trusted": true
      },
      "execution_count": 4,
      "outputs": []
    },
    {
      "cell_type": "code",
      "source": "",
      "metadata": {
        "trusted": true
      },
      "execution_count": 17,
      "outputs": [
        {
          "execution_count": 17,
          "output_type": "execute_result",
          "data": {
            "text/plain": "<bound method NDFrame.head of         user_id                   timestamp      group landing_page  converted\n0        851104  2017-01-21 22:11:48.556739    control     old_page          0\n1        804228  2017-01-12 08:01:45.159739    control     old_page          0\n2        661590  2017-01-11 16:55:06.154213  treatment     new_page          0\n3        853541  2017-01-08 18:28:03.143765  treatment     new_page          0\n4        864975  2017-01-21 01:52:26.210827    control     old_page          1\n5        936923  2017-01-10 15:20:49.083499    control     old_page          0\n6        679687  2017-01-19 03:26:46.940749  treatment     new_page          1\n7        719014  2017-01-17 01:48:29.539573    control     old_page          0\n8        817355  2017-01-04 17:58:08.979471  treatment     new_page          1\n9        839785  2017-01-15 18:11:06.610965  treatment     new_page          1\n10       929503  2017-01-18 05:37:11.527370  treatment     new_page          0\n11       834487  2017-01-21 22:37:47.774891  treatment     new_page          0\n12       803683  2017-01-09 06:05:16.222706  treatment     new_page          0\n13       944475  2017-01-22 01:31:09.573836  treatment     new_page          0\n14       718956  2017-01-22 11:45:11.327945  treatment     new_page          0\n15       644214  2017-01-22 02:05:21.719434    control     old_page          1\n16       847721  2017-01-17 14:01:00.090575    control     old_page          0\n17       888545  2017-01-08 06:37:26.332945  treatment     new_page          1\n18       650559  2017-01-24 11:55:51.084801    control     old_page          0\n19       935734  2017-01-17 20:33:37.428378    control     old_page          0\n20       740805  2017-01-12 18:59:45.453277  treatment     new_page          0\n21       759875  2017-01-09 16:11:58.806110  treatment     new_page          0\n23       793849  2017-01-23 22:36:10.742811  treatment     new_page          0\n24       905617  2017-01-20 14:12:19.345499  treatment     new_page          0\n25       746742  2017-01-23 11:38:29.592148    control     old_page          0\n26       892356  2017-01-05 09:35:14.904865  treatment     new_page          1\n27       773302  2017-01-12 08:29:49.810594  treatment     new_page          0\n28       913579  2017-01-24 09:11:39.164256    control     old_page          1\n29       736159  2017-01-06 01:50:21.318242  treatment     new_page          0\n30       690284  2017-01-13 17:22:57.182769    control     old_page          0\n...         ...                         ...        ...          ...        ...\n294448   776137  2017-01-12 05:53:12.386730  treatment     new_page          0\n294449   883344  2017-01-22 23:15:58.645325  treatment     new_page          0\n294450   825594  2017-01-06 12:37:08.897784  treatment     new_page          0\n294451   875688  2017-01-14 07:19:49.042869    control     old_page          0\n294452   927527  2017-01-12 10:52:11.084740    control     old_page          0\n294453   789177  2017-01-17 18:17:56.215378    control     old_page          0\n294454   937338  2017-01-19 03:23:22.236666  treatment     new_page          0\n294455   733101  2017-01-23 12:52:58.711914  treatment     new_page          0\n294456   679096  2017-01-02 16:43:49.237940  treatment     new_page          0\n294457   691699  2017-01-09 23:42:35.963486  treatment     new_page          0\n294458   807595  2017-01-22 10:43:09.285426  treatment     new_page          0\n294459   924816  2017-01-20 10:59:03.481635    control     old_page          0\n294460   846225  2017-01-16 15:24:46.705903  treatment     new_page          0\n294461   740310  2017-01-10 17:22:19.762612    control     old_page          0\n294462   677163  2017-01-03 19:41:51.902148  treatment     new_page          0\n294463   832080  2017-01-19 13:18:27.352570    control     old_page          0\n294464   834362  2017-01-17 01:51:56.106436    control     old_page          0\n294465   925675  2017-01-07 20:38:26.346410  treatment     new_page          0\n294466   923948  2017-01-09 16:33:41.104573    control     old_page          0\n294467   857744  2017-01-05 08:00:56.024226    control     old_page          0\n294468   643562  2017-01-02 19:20:05.460595  treatment     new_page          0\n294469   755438  2017-01-18 17:35:06.149568    control     old_page          0\n294470   908354  2017-01-11 02:42:21.195145    control     old_page          0\n294471   718310  2017-01-21 22:44:20.378320    control     old_page          0\n294472   822004  2017-01-04 03:36:46.071379  treatment     new_page          0\n294473   751197  2017-01-03 22:28:38.630509    control     old_page          0\n294474   945152  2017-01-12 00:51:57.078372    control     old_page          0\n294475   734608  2017-01-22 11:45:03.439544    control     old_page          0\n294476   697314  2017-01-15 01:20:28.957438    control     old_page          0\n294477   715931  2017-01-16 12:40:24.467417  treatment     new_page          0\n\n[290585 rows x 5 columns]>"
          },
          "metadata": {}
        }
      ]
    },
    {
      "cell_type": "code",
      "source": "df.head()",
      "metadata": {
        "trusted": true
      },
      "execution_count": 12,
      "outputs": [
        {
          "execution_count": 12,
          "output_type": "execute_result",
          "data": {
            "text/plain": "   user_id                   timestamp      group landing_page  converted\n0   851104  2017-01-21 22:11:48.556739    control     old_page          0\n1   804228  2017-01-12 08:01:45.159739    control     old_page          0\n2   661590  2017-01-11 16:55:06.154213  treatment     new_page          0\n3   853541  2017-01-08 18:28:03.143765  treatment     new_page          0\n4   864975  2017-01-21 01:52:26.210827    control     old_page          1",
            "text/html": "<div>\n<table border=\"1\" class=\"dataframe\">\n  <thead>\n    <tr style=\"text-align: right;\">\n      <th></th>\n      <th>user_id</th>\n      <th>timestamp</th>\n      <th>group</th>\n      <th>landing_page</th>\n      <th>converted</th>\n    </tr>\n  </thead>\n  <tbody>\n    <tr>\n      <th>0</th>\n      <td>851104</td>\n      <td>2017-01-21 22:11:48.556739</td>\n      <td>control</td>\n      <td>old_page</td>\n      <td>0</td>\n    </tr>\n    <tr>\n      <th>1</th>\n      <td>804228</td>\n      <td>2017-01-12 08:01:45.159739</td>\n      <td>control</td>\n      <td>old_page</td>\n      <td>0</td>\n    </tr>\n    <tr>\n      <th>2</th>\n      <td>661590</td>\n      <td>2017-01-11 16:55:06.154213</td>\n      <td>treatment</td>\n      <td>new_page</td>\n      <td>0</td>\n    </tr>\n    <tr>\n      <th>3</th>\n      <td>853541</td>\n      <td>2017-01-08 18:28:03.143765</td>\n      <td>treatment</td>\n      <td>new_page</td>\n      <td>0</td>\n    </tr>\n    <tr>\n      <th>4</th>\n      <td>864975</td>\n      <td>2017-01-21 01:52:26.210827</td>\n      <td>control</td>\n      <td>old_page</td>\n      <td>1</td>\n    </tr>\n  </tbody>\n</table>\n</div>"
          },
          "metadata": {}
        }
      ]
    },
    {
      "cell_type": "markdown",
      "source": "Reading in the ab_data.csv data. This will be stored in df. \n\nThe first few lines of the dataset will be shown. It is observed that there are 5 variables in the dataset with 2 groups identified as treatment group and control group (the non-treatment group, similar jardon used in medical experiments). The experiment design uses the treatment variable (the new landing page) to see the effect of the new landing page.  ",
      "metadata": {}
    },
    {
      "cell_type": "markdown",
      "source": "#### Data Manupilation ",
      "metadata": {}
    },
    {
      "cell_type": "markdown",
      "source": "Take a step to check if there are miss alignments between control/treatment groups and landing page design. \n\nSometime, there are bugs in web page program that may not perfectly be aligned with orginal experiment design.",
      "metadata": {}
    },
    {
      "cell_type": "code",
      "source": "new_control = len(df[(df['landing_page']=='new_page') & (df['group']=='control')])",
      "metadata": {
        "trusted": true
      },
      "execution_count": 5,
      "outputs": []
    },
    {
      "cell_type": "code",
      "source": "new_control",
      "metadata": {
        "trusted": true
      },
      "execution_count": 6,
      "outputs": [
        {
          "execution_count": 6,
          "output_type": "execute_result",
          "data": {
            "text/plain": "1928"
          },
          "metadata": {}
        }
      ]
    },
    {
      "cell_type": "code",
      "source": "old_treatment =  len(df[(df['landing_page']=='old_page') & (df['group']=='treatment')])",
      "metadata": {
        "trusted": true
      },
      "execution_count": 7,
      "outputs": []
    },
    {
      "cell_type": "code",
      "source": "old_treatment",
      "metadata": {
        "trusted": true
      },
      "execution_count": 8,
      "outputs": [
        {
          "execution_count": 8,
          "output_type": "execute_result",
          "data": {
            "text/plain": "1965"
          },
          "metadata": {}
        }
      ]
    },
    {
      "cell_type": "code",
      "source": "misalignment = old_treatment + new_control\nmisalignment",
      "metadata": {
        "trusted": true
      },
      "execution_count": 9,
      "outputs": [
        {
          "execution_count": 9,
          "output_type": "execute_result",
          "data": {
            "text/plain": "3893"
          },
          "metadata": {}
        }
      ]
    },
    {
      "cell_type": "markdown",
      "source": "It is found that there are totally 3893 cases with misalignment which is a small percentage of experiment subjects. \n\nBetter to drop out these misalignment.",
      "metadata": {}
    },
    {
      "cell_type": "code",
      "source": "df = df.drop(df.index[(df['landing_page']=='new_page') & (df['group']=='control')],axis = 0)",
      "metadata": {
        "trusted": true
      },
      "execution_count": 13,
      "outputs": []
    },
    {
      "cell_type": "code",
      "source": "df = df.drop(df.index[(df['landing_page']=='old_page') & (df['group']=='treatment')],axis = 0)",
      "metadata": {
        "trusted": true
      },
      "execution_count": 14,
      "outputs": []
    },
    {
      "cell_type": "code",
      "source": "df.shape",
      "metadata": {
        "trusted": true
      },
      "execution_count": 15,
      "outputs": [
        {
          "execution_count": 15,
          "output_type": "execute_result",
          "data": {
            "text/plain": "(290585, 5)"
          },
          "metadata": {}
        }
      ]
    },
    {
      "cell_type": "markdown",
      "source": "The experiment ends up with 5 variables and 290585 observations\n\nFollowing step is to check any missing observation amongst 5 variables ",
      "metadata": {}
    },
    {
      "cell_type": "code",
      "source": "# df.isna().any()\n# pd.isna() is phased in some Python 3 (work in Python 2)\npd.isnull(df).any()",
      "metadata": {
        "trusted": true
      },
      "execution_count": 16,
      "outputs": [
        {
          "execution_count": 16,
          "output_type": "execute_result",
          "data": {
            "text/plain": "user_id         False\ntimestamp       False\ngroup           False\nlanding_page    False\nconverted       False\ndtype: bool"
          },
          "metadata": {}
        }
      ]
    },
    {
      "cell_type": "markdown",
      "source": "Perform a simple calculation to check the conversion rates of the two groups. \n\nBe aware of the synax output of Python 2 (recommend to run the program in Python 3) with a integer or zero by dividing one integer by another integer.",
      "metadata": {}
    },
    {
      "cell_type": "code",
      "source": "A = df[(df['landing_page']=='old_page') & (df['converted']==1)]\nB = df[df['landing_page']=='old_page']\nfloat(A.shape[0])/(B.shape[0])",
      "metadata": {
        "trusted": true
      },
      "execution_count": 18,
      "outputs": [
        {
          "execution_count": 18,
          "output_type": "execute_result",
          "data": {
            "text/plain": "0.1203863045004612"
          },
          "metadata": {}
        }
      ]
    },
    {
      "cell_type": "code",
      "source": "new_page_conversion = float(len(df[(df['landing_page']=='new_page') & (df['converted']==1)]))/len(df[df['landing_page']=='new_page'])",
      "metadata": {
        "trusted": true
      },
      "execution_count": 19,
      "outputs": []
    },
    {
      "cell_type": "code",
      "source": "new_page_conversion",
      "metadata": {
        "trusted": true
      },
      "execution_count": 20,
      "outputs": [
        {
          "execution_count": 20,
          "output_type": "execute_result",
          "data": {
            "text/plain": "0.11880724790277405"
          },
          "metadata": {}
        }
      ]
    },
    {
      "cell_type": "markdown",
      "source": "A further step to check the conversion of users not the visit records that is to mean checking on if there are any duplicates.\n\nA unique user_id identification is applied to the visit records",
      "metadata": {}
    },
    {
      "cell_type": "code",
      "source": "len(df.user_id.unique())",
      "metadata": {
        "trusted": true
      },
      "execution_count": 21,
      "outputs": [
        {
          "execution_count": 21,
          "output_type": "execute_result",
          "data": {
            "text/plain": "290584"
          },
          "metadata": {}
        }
      ]
    },
    {
      "cell_type": "markdown",
      "source": "It is found that there is a duplicated input. \n\nCreate df2 to track out the record of the duplicate user, and then by command df.drop(), in case python 2 add the index as row identification, and axis as column identification, drop out one visit record to eliminate the duplication",
      "metadata": {}
    },
    {
      "cell_type": "code",
      "source": "df[df.duplicated('user_id') == True]",
      "metadata": {
        "trusted": true
      },
      "execution_count": 22,
      "outputs": [
        {
          "execution_count": 22,
          "output_type": "execute_result",
          "data": {
            "text/plain": "      user_id                   timestamp      group landing_page  converted\n2893   773192  2017-01-14 02:55:59.590927  treatment     new_page          0",
            "text/html": "<div>\n<table border=\"1\" class=\"dataframe\">\n  <thead>\n    <tr style=\"text-align: right;\">\n      <th></th>\n      <th>user_id</th>\n      <th>timestamp</th>\n      <th>group</th>\n      <th>landing_page</th>\n      <th>converted</th>\n    </tr>\n  </thead>\n  <tbody>\n    <tr>\n      <th>2893</th>\n      <td>773192</td>\n      <td>2017-01-14 02:55:59.590927</td>\n      <td>treatment</td>\n      <td>new_page</td>\n      <td>0</td>\n    </tr>\n  </tbody>\n</table>\n</div>"
          },
          "metadata": {}
        }
      ]
    },
    {
      "cell_type": "code",
      "source": "df[df['user_id'] == 773192]",
      "metadata": {
        "trusted": true
      },
      "execution_count": 23,
      "outputs": [
        {
          "execution_count": 23,
          "output_type": "execute_result",
          "data": {
            "text/plain": "      user_id                   timestamp      group landing_page  converted\n1899   773192  2017-01-09 05:37:58.781806  treatment     new_page          0\n2893   773192  2017-01-14 02:55:59.590927  treatment     new_page          0",
            "text/html": "<div>\n<table border=\"1\" class=\"dataframe\">\n  <thead>\n    <tr style=\"text-align: right;\">\n      <th></th>\n      <th>user_id</th>\n      <th>timestamp</th>\n      <th>group</th>\n      <th>landing_page</th>\n      <th>converted</th>\n    </tr>\n  </thead>\n  <tbody>\n    <tr>\n      <th>1899</th>\n      <td>773192</td>\n      <td>2017-01-09 05:37:58.781806</td>\n      <td>treatment</td>\n      <td>new_page</td>\n      <td>0</td>\n    </tr>\n    <tr>\n      <th>2893</th>\n      <td>773192</td>\n      <td>2017-01-14 02:55:59.590927</td>\n      <td>treatment</td>\n      <td>new_page</td>\n      <td>0</td>\n    </tr>\n  </tbody>\n</table>\n</div>"
          },
          "metadata": {}
        }
      ]
    },
    {
      "cell_type": "code",
      "source": "df2 = df.drop(1899, axis = 0)",
      "metadata": {
        "trusted": true
      },
      "execution_count": 24,
      "outputs": []
    },
    {
      "cell_type": "code",
      "source": "df.shape",
      "metadata": {
        "trusted": true
      },
      "execution_count": 25,
      "outputs": [
        {
          "execution_count": 25,
          "output_type": "execute_result",
          "data": {
            "text/plain": "(290585, 5)"
          },
          "metadata": {}
        }
      ]
    },
    {
      "cell_type": "code",
      "source": "df2.shape",
      "metadata": {
        "trusted": true
      },
      "execution_count": 26,
      "outputs": [
        {
          "execution_count": 26,
          "output_type": "execute_result",
          "data": {
            "text/plain": "(290584, 5)"
          },
          "metadata": {}
        }
      ]
    },
    {
      "cell_type": "markdown",
      "source": "#### Calculation of the convertion probability with receiving treatment",
      "metadata": {}
    },
    {
      "cell_type": "code",
      "source": "ct_rate = float(len(df2[df2['landing_page']=='new_page']))/len(df2)",
      "metadata": {
        "trusted": true
      },
      "execution_count": 27,
      "outputs": []
    },
    {
      "cell_type": "code",
      "source": "ct_rate",
      "metadata": {
        "trusted": true
      },
      "execution_count": 28,
      "outputs": [
        {
          "execution_count": 28,
          "output_type": "execute_result",
          "data": {
            "text/plain": "0.5000619442226688"
          },
          "metadata": {}
        }
      ]
    },
    {
      "cell_type": "code",
      "source": "df2['landing_page'].value_counts().plot(kind='pie', figsize=(4,4));",
      "metadata": {
        "trusted": true
      },
      "execution_count": 29,
      "outputs": [
        {
          "output_type": "display_data",
          "data": {
            "image/png": "[encoded data removed]",
            "text/plain": "<matplotlib.figure.Figure at 0x7f82bd3ad518>"
          },
          "metadata": {}
        }
      ]
    },
    {
      "cell_type": "code",
      "source": "df2['date'] = df2['timestamp'].apply(lambda x:x.split(' ')[0])\ndf2['time'] = df2['timestamp'].apply(lambda x:x.split(' ')[1])\ndf2['hour'] = df2['time'].apply(lambda x:x.split(':')[0])\ndf2['time'] = df2['time'].apply(lambda x:x.split('.')[0])",
      "metadata": {
        "trusted": true
      },
      "execution_count": 37,
      "outputs": []
    },
    {
      "cell_type": "code",
      "source": "df2.head()",
      "metadata": {
        "trusted": true
      },
      "execution_count": 38,
      "outputs": [
        {
          "execution_count": 38,
          "output_type": "execute_result",
          "data": {
            "text/plain": "   user_id                   timestamp      group landing_page  converted  \\\n0   851104  2017-01-21 22:11:48.556739    control     old_page          0   \n1   804228  2017-01-12 08:01:45.159739    control     old_page          0   \n2   661590  2017-01-11 16:55:06.154213  treatment     new_page          0   \n3   853541  2017-01-08 18:28:03.143765  treatment     new_page          0   \n4   864975  2017-01-21 01:52:26.210827    control     old_page          1   \n\n         date      time hour  \n0  2017-01-21  22:11:48   22  \n1  2017-01-12  08:01:45   08  \n2  2017-01-11  16:55:06   16  \n3  2017-01-08  18:28:03   18  \n4  2017-01-21  01:52:26   01  ",
            "text/html": "<div>\n<table border=\"1\" class=\"dataframe\">\n  <thead>\n    <tr style=\"text-align: right;\">\n      <th></th>\n      <th>user_id</th>\n      <th>timestamp</th>\n      <th>group</th>\n      <th>landing_page</th>\n      <th>converted</th>\n      <th>date</th>\n      <th>time</th>\n      <th>hour</th>\n    </tr>\n  </thead>\n  <tbody>\n    <tr>\n      <th>0</th>\n      <td>851104</td>\n      <td>2017-01-21 22:11:48.556739</td>\n      <td>control</td>\n      <td>old_page</td>\n      <td>0</td>\n      <td>2017-01-21</td>\n      <td>22:11:48</td>\n      <td>22</td>\n    </tr>\n    <tr>\n      <th>1</th>\n      <td>804228</td>\n      <td>2017-01-12 08:01:45.159739</td>\n      <td>control</td>\n      <td>old_page</td>\n      <td>0</td>\n      <td>2017-01-12</td>\n      <td>08:01:45</td>\n      <td>08</td>\n    </tr>\n    <tr>\n      <th>2</th>\n      <td>661590</td>\n      <td>2017-01-11 16:55:06.154213</td>\n      <td>treatment</td>\n      <td>new_page</td>\n      <td>0</td>\n      <td>2017-01-11</td>\n      <td>16:55:06</td>\n      <td>16</td>\n    </tr>\n    <tr>\n      <th>3</th>\n      <td>853541</td>\n      <td>2017-01-08 18:28:03.143765</td>\n      <td>treatment</td>\n      <td>new_page</td>\n      <td>0</td>\n      <td>2017-01-08</td>\n      <td>18:28:03</td>\n      <td>18</td>\n    </tr>\n    <tr>\n      <th>4</th>\n      <td>864975</td>\n      <td>2017-01-21 01:52:26.210827</td>\n      <td>control</td>\n      <td>old_page</td>\n      <td>1</td>\n      <td>2017-01-21</td>\n      <td>01:52:26</td>\n      <td>01</td>\n    </tr>\n  </tbody>\n</table>\n</div>"
          },
          "metadata": {}
        }
      ]
    },
    {
      "cell_type": "code",
      "source": "df_cr = df2.groupby(['hour'])['converted'].mean()",
      "metadata": {
        "trusted": true
      },
      "execution_count": 53,
      "outputs": []
    },
    {
      "cell_type": "code",
      "source": "df_cr.head \n#list out conversion rate at different hours ",
      "metadata": {
        "trusted": true
      },
      "execution_count": 59,
      "outputs": [
        {
          "execution_count": 59,
          "output_type": "execute_result",
          "data": {
            "text/plain": "<bound method NDFrame.head of hour\n00    0.120339\n01    0.113714\n02    0.113339\n03    0.115007\n04    0.114126\n05    0.120905\n06    0.121330\n07    0.117589\n08    0.118457\n09    0.125198\n10    0.117579\n11    0.122810\n12    0.123908\n13    0.120599\n14    0.118018\n15    0.121179\n16    0.117450\n17    0.122183\n18    0.126586\n19    0.117099\n20    0.118437\n21    0.120674\n22    0.119527\n23    0.124401\nName: converted, dtype: float64>"
          },
          "metadata": {}
        }
      ]
    },
    {
      "cell_type": "markdown",
      "source": "## Part II A/B Testing ",
      "metadata": {}
    },
    {
      "cell_type": "markdown",
      "source": "Null Hypothesis: Conversion(old) >= Conversion(new)\n\nAlternative Hypothesis: Conversion(old) < Conversion(new)",
      "metadata": {}
    },
    {
      "cell_type": "markdown",
      "source": "Type I error. A Type I error occurs when the researcher rejects a null hypothesis when it is true. The probability of committing a Type I error is called the significance level. This probability is also called alpha, and is often denoted by α.\n\nType II error. A Type II error occurs when the researcher fails to reject a null hypothesis that is false. The probability of committing a Type II error is called Beta, and is often denoted by β. The probability of not committing a Type II error is called the Power of the test.\n\nThis is a one-side test, so under the null hypothesis which the new treatment does not improve the conversion rate. In order to reject the null hypothesis, the pvalue must be greater than 95% (meaning that less than 5% by chance inducing a conversion rate of new treatment significantly higher than the conversion rate without treatment).",
      "metadata": {}
    },
    {
      "cell_type": "code",
      "source": "n_new = len(df2[df2['landing_page']=='new_page'])\nn_old = len(df2[df2['landing_page']=='old_page'])",
      "metadata": {
        "trusted": true
      },
      "execution_count": 60,
      "outputs": []
    },
    {
      "cell_type": "code",
      "source": "count_new = len(df2[(df2['landing_page']=='new_page') & (df2['converted']==1)])\nnobs_new = len(df2[df2['landing_page']=='new_page'])\ncount_old = len(df2[(df2['landing_page']=='old_page') & (df2['converted']==1)])\nnobs_old = len(df2[df2['landing_page']=='old_page'])",
      "metadata": {
        "trusted": true
      },
      "execution_count": 61,
      "outputs": []
    },
    {
      "cell_type": "code",
      "source": "stat, pval = sm.stats.proportions_ztest([count_new,count_old], [nobs_new,nobs_old], alternative='larger')",
      "metadata": {
        "trusted": true
      },
      "execution_count": 62,
      "outputs": []
    },
    {
      "cell_type": "code",
      "source": "pval\n# Must be greater than .95 to reject the one-side test to conclude that greater than the conversion rate of the control sample             ",
      "metadata": {
        "trusted": true
      },
      "execution_count": 63,
      "outputs": [
        {
          "execution_count": 63,
          "output_type": "execute_result",
          "data": {
            "text/plain": "0.9050583127590245"
          },
          "metadata": {}
        }
      ]
    },
    {
      "cell_type": "code",
      "source": "from statsmodels.stats.power import TTestIndPower\n",
      "metadata": {
        "trusted": true
      },
      "execution_count": 64,
      "outputs": []
    },
    {
      "cell_type": "code",
      "source": "effect = 0.01\nalpha = 0.05\npower = 0.8\n# perform power analysis\nanalysis = TTestIndPower()\nMinsizeofSample = analysis.solve_power(effect, power=power, nobs1=None, ratio=1.0, alpha=alpha)\nprint('Minimum size of Sample to have a power of 80% with 5% significant level at different of 1% in conversion rate =', int(MinsizeofSample))",
      "metadata": {
        "trusted": true
      },
      "execution_count": 75,
      "outputs": [
        {
          "text": "Minimum size of Sample to have a power of 80% with 5% significant level at different of 1% in conversion rate = 156978\n",
          "name": "stdout",
          "output_type": "stream"
        }
      ]
    },
    {
      "cell_type": "markdown",
      "source": "### Result \n\nSince p-value = 0.905 << .95, the new treatment fails to reject null hypothesis, so that do not reject null hypothesis at 5% significance level. So the conversion rate of new version is not statistically significant larger than old version's conversion rate.",
      "metadata": {}
    }
  ]
}