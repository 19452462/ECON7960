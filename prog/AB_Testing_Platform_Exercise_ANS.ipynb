{
  "metadata": {
    "kernelspec": {
      "name": "python3",
      "display_name": "Python 3",
      "language": "python"
    },
    "language_info": {
      "mimetype": "text/x-python",
      "nbconvert_exporter": "python",
      "name": "python",
      "pygments_lexer": "ipython2",
      "version": "2.7.15",
      "file_extension": ".py",
      "codemirror_mode": {
        "version": 2,
        "name": "ipython"
      }
    }
  },
  "nbformat_minor": 2,
  "nbformat": 4,
  "cells": [
    {
      "cell_type": "markdown",
      "source": "# Analyze A/B Test Exercise\n\n\n## Table of Contents\n- [Introduction](#intro)\n- [Part I - Probability](#probability)\n- [Part II - A/B Test](#ab_test)\n- [Part III - Regression](#regression)\n\n\n<a id='intro'></a>\n### Introduction\n\nA/B tests are very commonly performed by data analysts and data scientists.  \n\nIn this project I will go through the results of an A/B test run by an e-commerce website.  The goal is to work through this notebook to help the company understand if they should implement the new page, keep the old page, or perhaps run the experiment longer to make their decision.  \n  \n\n<a id='probability'></a>\n#### Part I - Probability\n\nFirst I will import the libraries.",
      "metadata": {}
    },
    {
      "cell_type": "code",
      "source": "import pandas as pd\nimport numpy as np\nimport random\nimport matplotlib.pyplot as plt\nfrom scipy.stats import norm\n%matplotlib inline\n#We are setting the seed to assure you get the same answers on quizzes as we set up\nrandom.seed(42)",
      "metadata": {
        "trusted": true
      },
      "execution_count": 1,
      "outputs": []
    },
    {
      "cell_type": "markdown",
      "source": "### 1. Reading in the \"ab_data.csv\" data. This will be stored in \"df\".   \nThe first few lines of the dataset will be shown.",
      "metadata": {}
    },
    {
      "cell_type": "code",
      "source": "#The dataset is read and the first few rows are shown\ndf = pd.read_csv('ab_data.csv')\ndf.head()",
      "metadata": {
        "trusted": true
      },
      "execution_count": 2,
      "outputs": [
        {
          "execution_count": 2,
          "output_type": "execute_result",
          "data": {
            "text/html": "<div>\n<table border=\"1\" class=\"dataframe\">\n  <thead>\n    <tr style=\"text-align: right;\">\n      <th></th>\n      <th>user_id</th>\n      <th>timestamp</th>\n      <th>group</th>\n      <th>landing_page</th>\n      <th>converted</th>\n    </tr>\n  </thead>\n  <tbody>\n    <tr>\n      <th>0</th>\n      <td>851104</td>\n      <td>2017-01-21 22:11:48.556739</td>\n      <td>control</td>\n      <td>old_page</td>\n      <td>0</td>\n    </tr>\n    <tr>\n      <th>1</th>\n      <td>804228</td>\n      <td>2017-01-12 08:01:45.159739</td>\n      <td>control</td>\n      <td>old_page</td>\n      <td>0</td>\n    </tr>\n    <tr>\n      <th>2</th>\n      <td>661590</td>\n      <td>2017-01-11 16:55:06.154213</td>\n      <td>treatment</td>\n      <td>new_page</td>\n      <td>0</td>\n    </tr>\n    <tr>\n      <th>3</th>\n      <td>853541</td>\n      <td>2017-01-08 18:28:03.143765</td>\n      <td>treatment</td>\n      <td>new_page</td>\n      <td>0</td>\n    </tr>\n    <tr>\n      <th>4</th>\n      <td>864975</td>\n      <td>2017-01-21 01:52:26.210827</td>\n      <td>control</td>\n      <td>old_page</td>\n      <td>1</td>\n    </tr>\n  </tbody>\n</table>\n</div>",
            "text/plain": "   user_id                   timestamp      group landing_page  converted\n0   851104  2017-01-21 22:11:48.556739    control     old_page          0\n1   804228  2017-01-12 08:01:45.159739    control     old_page          0\n2   661590  2017-01-11 16:55:06.154213  treatment     new_page          0\n3   853541  2017-01-08 18:28:03.143765  treatment     new_page          0\n4   864975  2017-01-21 01:52:26.210827    control     old_page          1"
          },
          "metadata": {}
        }
      ]
    },
    {
      "cell_type": "markdown",
      "source": "The below cell is used to find the number of rows in the dataset.",
      "metadata": {}
    },
    {
      "cell_type": "code",
      "source": "#The number of rows in the dataset if found\ndf.shape[0]",
      "metadata": {
        "trusted": true
      },
      "execution_count": 3,
      "outputs": [
        {
          "execution_count": 3,
          "output_type": "execute_result",
          "data": {
            "text/plain": "294478"
          },
          "metadata": {}
        }
      ]
    },
    {
      "cell_type": "markdown",
      "source": "The number of unique users in the dataset.",
      "metadata": {}
    },
    {
      "cell_type": "code",
      "source": "#The amount of unique users are found\ndf['user_id'].nunique()",
      "metadata": {
        "trusted": true
      },
      "execution_count": 4,
      "outputs": [
        {
          "execution_count": 4,
          "output_type": "execute_result",
          "data": {
            "text/plain": "290584"
          },
          "metadata": {}
        }
      ]
    },
    {
      "cell_type": "markdown",
      "source": "The proportion of users converted.",
      "metadata": {}
    },
    {
      "cell_type": "code",
      "source": "#The amount of converted users is found\ndf.query('converted == 1').count()[0]/df.count()[0]",
      "metadata": {
        "trusted": true
      },
      "execution_count": 5,
      "outputs": [
        {
          "execution_count": 5,
          "output_type": "execute_result",
          "data": {
            "text/plain": "0.11965919355605512"
          },
          "metadata": {}
        }
      ]
    },
    {
      "cell_type": "markdown",
      "source": "The number of times the `new_page` and `treatment` don't line up.",
      "metadata": {}
    },
    {
      "cell_type": "code",
      "source": "#A query is used to investigate when new_page and treatment does not line up\ndf.query(\"group == 'treatment' and landing_page == 'old_page'\").count()[0] + df.query(\"group == 'control' and landing_page == 'new_page'\").count()[0]\n",
      "metadata": {
        "trusted": true
      },
      "execution_count": 6,
      "outputs": [
        {
          "execution_count": 6,
          "output_type": "execute_result",
          "data": {
            "text/plain": "3893"
          },
          "metadata": {}
        }
      ]
    },
    {
      "cell_type": "markdown",
      "source": "Do any of the rows have missing values?",
      "metadata": {}
    },
    {
      "cell_type": "code",
      "source": "#Investigating if any of the rows have missing values\ndf.isnull().sum()",
      "metadata": {
        "trusted": true
      },
      "execution_count": 7,
      "outputs": [
        {
          "execution_count": 7,
          "output_type": "execute_result",
          "data": {
            "text/plain": "user_id         0\ntimestamp       0\ngroup           0\nlanding_page    0\nconverted       0\ndtype: int64"
          },
          "metadata": {}
        }
      ]
    },
    {
      "cell_type": "markdown",
      "source": "### 2. For the rows where *treatment* is not aligned with *new_page* or *control* is not aligned with *old_page*, it is not certain if this row truly received the new or old page.  \n\na. Removing values that are not adhering to expected values and store the new dataframe in **df2**.",
      "metadata": {}
    },
    {
      "cell_type": "code",
      "source": "#Removing data that is not adhering to the expected values\ndf2 = df.query(\"group == 'treatment' and landing_page == 'new_page' or group == 'control' and landing_page == 'old_page'\")\ndf2.head()",
      "metadata": {
        "trusted": true
      },
      "execution_count": 8,
      "outputs": [
        {
          "execution_count": 8,
          "output_type": "execute_result",
          "data": {
            "text/html": "<div>\n<table border=\"1\" class=\"dataframe\">\n  <thead>\n    <tr style=\"text-align: right;\">\n      <th></th>\n      <th>user_id</th>\n      <th>timestamp</th>\n      <th>group</th>\n      <th>landing_page</th>\n      <th>converted</th>\n    </tr>\n  </thead>\n  <tbody>\n    <tr>\n      <th>0</th>\n      <td>851104</td>\n      <td>2017-01-21 22:11:48.556739</td>\n      <td>control</td>\n      <td>old_page</td>\n      <td>0</td>\n    </tr>\n    <tr>\n      <th>1</th>\n      <td>804228</td>\n      <td>2017-01-12 08:01:45.159739</td>\n      <td>control</td>\n      <td>old_page</td>\n      <td>0</td>\n    </tr>\n    <tr>\n      <th>2</th>\n      <td>661590</td>\n      <td>2017-01-11 16:55:06.154213</td>\n      <td>treatment</td>\n      <td>new_page</td>\n      <td>0</td>\n    </tr>\n    <tr>\n      <th>3</th>\n      <td>853541</td>\n      <td>2017-01-08 18:28:03.143765</td>\n      <td>treatment</td>\n      <td>new_page</td>\n      <td>0</td>\n    </tr>\n    <tr>\n      <th>4</th>\n      <td>864975</td>\n      <td>2017-01-21 01:52:26.210827</td>\n      <td>control</td>\n      <td>old_page</td>\n      <td>1</td>\n    </tr>\n  </tbody>\n</table>\n</div>",
            "text/plain": "   user_id                   timestamp      group landing_page  converted\n0   851104  2017-01-21 22:11:48.556739    control     old_page          0\n1   804228  2017-01-12 08:01:45.159739    control     old_page          0\n2   661590  2017-01-11 16:55:06.154213  treatment     new_page          0\n3   853541  2017-01-08 18:28:03.143765  treatment     new_page          0\n4   864975  2017-01-21 01:52:26.210827    control     old_page          1"
          },
          "metadata": {}
        }
      ]
    },
    {
      "cell_type": "code",
      "source": "# Double Check all of the correct rows were removed - this should be 0\ndf2[((df2['group'] == 'treatment') == (df2['landing_page'] == 'new_page')) == False].shape[0]",
      "metadata": {
        "trusted": true
      },
      "execution_count": 9,
      "outputs": [
        {
          "execution_count": 9,
          "output_type": "execute_result",
          "data": {
            "text/plain": "0"
          },
          "metadata": {}
        }
      ]
    },
    {
      "cell_type": "markdown",
      "source": "### 3. Using **df2** and the cells below to answer the posed questions",
      "metadata": {}
    },
    {
      "cell_type": "markdown",
      "source": "a. How many unique **user_id**s are in **df2**?",
      "metadata": {}
    },
    {
      "cell_type": "code",
      "source": "#The amount of unique user id's is investigated\ndf2['user_id'].nunique()",
      "metadata": {
        "trusted": true
      },
      "execution_count": 10,
      "outputs": [
        {
          "execution_count": 10,
          "output_type": "execute_result",
          "data": {
            "text/plain": "290584"
          },
          "metadata": {}
        }
      ]
    },
    {
      "cell_type": "markdown",
      "source": "b. There is one **user_id** repeated in **df2**.  What is it?",
      "metadata": {}
    },
    {
      "cell_type": "code",
      "source": "#The single duplicate is shown\ndf2[df2.duplicated(['user_id'], keep=False)]",
      "metadata": {
        "trusted": true
      },
      "execution_count": 11,
      "outputs": [
        {
          "execution_count": 11,
          "output_type": "execute_result",
          "data": {
            "text/html": "<div>\n<table border=\"1\" class=\"dataframe\">\n  <thead>\n    <tr style=\"text-align: right;\">\n      <th></th>\n      <th>user_id</th>\n      <th>timestamp</th>\n      <th>group</th>\n      <th>landing_page</th>\n      <th>converted</th>\n    </tr>\n  </thead>\n  <tbody>\n    <tr>\n      <th>1899</th>\n      <td>773192</td>\n      <td>2017-01-09 05:37:58.781806</td>\n      <td>treatment</td>\n      <td>new_page</td>\n      <td>0</td>\n    </tr>\n    <tr>\n      <th>2893</th>\n      <td>773192</td>\n      <td>2017-01-14 02:55:59.590927</td>\n      <td>treatment</td>\n      <td>new_page</td>\n      <td>0</td>\n    </tr>\n  </tbody>\n</table>\n</div>",
            "text/plain": "      user_id                   timestamp      group landing_page  converted\n1899   773192  2017-01-09 05:37:58.781806  treatment     new_page          0\n2893   773192  2017-01-14 02:55:59.590927  treatment     new_page          0"
          },
          "metadata": {}
        }
      ]
    },
    {
      "cell_type": "markdown",
      "source": "c. What is the row information for the repeat **user_id**? ",
      "metadata": {}
    },
    {
      "cell_type": "code",
      "source": "#See above",
      "metadata": {
        "trusted": true
      },
      "execution_count": 12,
      "outputs": []
    },
    {
      "cell_type": "markdown",
      "source": "d. Remove **one** of the rows with a duplicate **user_id**, but keep the dataframe as **df2**.",
      "metadata": {}
    },
    {
      "cell_type": "code",
      "source": "#Removing one of the identified duplicate rows\ndf2 = df2.drop(1899)\ndf2.info()",
      "metadata": {
        "trusted": true
      },
      "execution_count": 13,
      "outputs": [
        {
          "text": "<class 'pandas.core.frame.DataFrame'>\nInt64Index: 290584 entries, 0 to 294477\nData columns (total 5 columns):\nuser_id         290584 non-null int64\ntimestamp       290584 non-null object\ngroup           290584 non-null object\nlanding_page    290584 non-null object\nconverted       290584 non-null int64\ndtypes: int64(2), object(3)\nmemory usage: 13.3+ MB\n",
          "name": "stdout",
          "output_type": "stream"
        }
      ]
    },
    {
      "cell_type": "markdown",
      "source": "### 4. Use **df2** in the below cells to answer the posed questions.\n\na. What is the probability of an individual converting regardless of the page they receive?",
      "metadata": {}
    },
    {
      "cell_type": "code",
      "source": "#Conversion rate\ndf2.query('converted == 1').count()[0]/df2.count()[0]",
      "metadata": {
        "trusted": true
      },
      "execution_count": 14,
      "outputs": [
        {
          "execution_count": 14,
          "output_type": "execute_result",
          "data": {
            "text/plain": "0.11959708724499628"
          },
          "metadata": {}
        }
      ]
    },
    {
      "cell_type": "markdown",
      "source": "b. Given that an individual was in the `control` group, what is the probability they converted?",
      "metadata": {}
    },
    {
      "cell_type": "code",
      "source": "#Conversion rate for the control group, where the mean can be used as the conversion rate\ndf2.groupby('group').describe()",
      "metadata": {
        "trusted": true
      },
      "execution_count": 15,
      "outputs": [
        {
          "execution_count": 15,
          "output_type": "execute_result",
          "data": {
            "text/html": "<div>\n<table border=\"1\" class=\"dataframe\">\n  <thead>\n    <tr style=\"text-align: right;\">\n      <th></th>\n      <th></th>\n      <th>converted</th>\n      <th>user_id</th>\n    </tr>\n    <tr>\n      <th>group</th>\n      <th></th>\n      <th></th>\n      <th></th>\n    </tr>\n  </thead>\n  <tbody>\n    <tr>\n      <th rowspan=\"8\" valign=\"top\">control</th>\n      <th>count</th>\n      <td>145274.000000</td>\n      <td>145274.000000</td>\n    </tr>\n    <tr>\n      <th>mean</th>\n      <td>0.120386</td>\n      <td>788164.072594</td>\n    </tr>\n    <tr>\n      <th>std</th>\n      <td>0.325414</td>\n      <td>91287.914601</td>\n    </tr>\n    <tr>\n      <th>min</th>\n      <td>0.000000</td>\n      <td>630002.000000</td>\n    </tr>\n    <tr>\n      <th>25%</th>\n      <td>0.000000</td>\n      <td>709279.500000</td>\n    </tr>\n    <tr>\n      <th>50%</th>\n      <td>0.000000</td>\n      <td>788128.500000</td>\n    </tr>\n    <tr>\n      <th>75%</th>\n      <td>0.000000</td>\n      <td>867208.250000</td>\n    </tr>\n    <tr>\n      <th>max</th>\n      <td>1.000000</td>\n      <td>945998.000000</td>\n    </tr>\n    <tr>\n      <th rowspan=\"8\" valign=\"top\">treatment</th>\n      <th>count</th>\n      <td>145310.000000</td>\n      <td>145310.000000</td>\n    </tr>\n    <tr>\n      <th>mean</th>\n      <td>0.118808</td>\n      <td>787845.719290</td>\n    </tr>\n    <tr>\n      <th>std</th>\n      <td>0.323564</td>\n      <td>91161.564429</td>\n    </tr>\n    <tr>\n      <th>min</th>\n      <td>0.000000</td>\n      <td>630000.000000</td>\n    </tr>\n    <tr>\n      <th>25%</th>\n      <td>0.000000</td>\n      <td>708745.750000</td>\n    </tr>\n    <tr>\n      <th>50%</th>\n      <td>0.000000</td>\n      <td>787876.000000</td>\n    </tr>\n    <tr>\n      <th>75%</th>\n      <td>0.000000</td>\n      <td>866718.750000</td>\n    </tr>\n    <tr>\n      <th>max</th>\n      <td>1.000000</td>\n      <td>945999.000000</td>\n    </tr>\n  </tbody>\n</table>\n</div>",
            "text/plain": "                     converted        user_id\ngroup                                        \ncontrol   count  145274.000000  145274.000000\n          mean        0.120386  788164.072594\n          std         0.325414   91287.914601\n          min         0.000000  630002.000000\n          25%         0.000000  709279.500000\n          50%         0.000000  788128.500000\n          75%         0.000000  867208.250000\n          max         1.000000  945998.000000\ntreatment count  145310.000000  145310.000000\n          mean        0.118808  787845.719290\n          std         0.323564   91161.564429\n          min         0.000000  630000.000000\n          25%         0.000000  708745.750000\n          50%         0.000000  787876.000000\n          75%         0.000000  866718.750000\n          max         1.000000  945999.000000"
          },
          "metadata": {}
        }
      ]
    },
    {
      "cell_type": "markdown",
      "source": "c. Given that an individual was in the `treatment` group, what is the probability they converted?",
      "metadata": {}
    },
    {
      "cell_type": "code",
      "source": "#See mean value above",
      "metadata": {
        "trusted": true
      },
      "execution_count": 16,
      "outputs": []
    },
    {
      "cell_type": "markdown",
      "source": "d. What is the probability that an individual received the new page?",
      "metadata": {}
    },
    {
      "cell_type": "code",
      "source": "#Probability of any individual receiving the new page\ndf2.query('landing_page == \"new_page\"').count()[0]/df2.count()[0]",
      "metadata": {
        "trusted": true
      },
      "execution_count": 17,
      "outputs": [
        {
          "execution_count": 17,
          "output_type": "execute_result",
          "data": {
            "text/plain": "0.5000619442226688"
          },
          "metadata": {}
        }
      ]
    },
    {
      "cell_type": "markdown",
      "source": "e. Use the results in the previous two portions of this question to suggest if there is evidence that one page leads to more conversions?  ",
      "metadata": {}
    },
    {
      "cell_type": "markdown",
      "source": "The probability of converting is almost the same for the two pages. Out of a population of 290584 persons, the two conversion groups are just 450 persons apart. This is just 0.2% in difference which is not a significant difference. From the investigated dataset there is no clear evidence that one page leads to more conversions.\nOf course boostrapping could be taken to use, but this will be done in the next section.",
      "metadata": {}
    },
    {
      "cell_type": "markdown",
      "source": "<a id='ab_test'></a>\n### Part II - A/B Test\n\nNotice that because of the time stamp associated with each event, I could technically run a hypothesis test continuously as each observation was observed.  \n\nHowever, then the hard question is, should I stop as soon as one page is considered significantly better than another or does it need to happen consistently for a certain amount of time?  How long should I run to render a decision that neither page is better than another?  \n\nThese questions are the difficult parts associated with A/B tests in general.  \n\n\n`1.` For now the decision will be based on all the data available.  Assuming that the old page is better unless the new page proves to be definitely better at a Type I error rate of 5%, what is the null and alternative hypotheses then?  ",
      "metadata": {}
    },
    {
      "cell_type": "markdown",
      "source": "$H_0 = p_{new} \\leq p_{old}$   \n$H_1 = p_{new} > p_{old}$",
      "metadata": {}
    },
    {
      "cell_type": "markdown",
      "source": "`2.` Assume under the null hypothesis, $p_{new}$ and $p_{old}$ both have \"true\" success rates equal to the **converted** success rate regardless of page - that is $p_{new}$ and $p_{old}$ are equal. Furthermore, assume they are equal to the **converted** rate in **ab_data.csv** regardless of the page. <br><br>\n\nA  sample size equal to the ones in **ab_data.csv** will be used for each page.  <br><br>\n\nA sampling distribution will be performed for the difference in **converted** between the two pages over 10,000 iterations of calculating an estimate from the null.  <br><br>",
      "metadata": {}
    },
    {
      "cell_type": "markdown",
      "source": "a. What is the **convert rate** for $p_{new}$ under the null?   \nb. What is the **convert rate** for $p_{old}$ under the null? <br><br>",
      "metadata": {}
    },
    {
      "cell_type": "code",
      "source": "#The conversion rate for the new\np_new_real = df2.query('landing_page == \"new_page\"')['converted'].mean()\np_new = df2.query('converted == 1').count()[0]/df2.count()[0]\np_new",
      "metadata": {
        "trusted": true
      },
      "execution_count": 18,
      "outputs": [
        {
          "execution_count": 18,
          "output_type": "execute_result",
          "data": {
            "text/plain": "0.11959708724499628"
          },
          "metadata": {}
        }
      ]
    },
    {
      "cell_type": "code",
      "source": "#The conversion rate for the old\np_old_real = df2.query('landing_page == \"old_page\"')['converted'].mean()\np_old = df2.query('converted == 1').count()[0]/df2.count()[0]\np_old",
      "metadata": {
        "trusted": true
      },
      "execution_count": 19,
      "outputs": [
        {
          "execution_count": 19,
          "output_type": "execute_result",
          "data": {
            "text/plain": "0.11959708724499628"
          },
          "metadata": {}
        }
      ]
    },
    {
      "cell_type": "code",
      "source": "#Computing the difference between the real observed conversion rates\np_diff_real = p_new_real-p_old_real\np_diff_real",
      "metadata": {
        "trusted": true
      },
      "execution_count": 20,
      "outputs": [
        {
          "execution_count": 20,
          "output_type": "execute_result",
          "data": {
            "text/plain": "-0.0015782389853555567"
          },
          "metadata": {}
        }
      ]
    },
    {
      "cell_type": "markdown",
      "source": "c. What is $n_{new}$?",
      "metadata": {}
    },
    {
      "cell_type": "code",
      "source": "#The amount of users for the treatment group\nn_new = df2.query('group == \"treatment\"').count()[0]\nn_new",
      "metadata": {
        "trusted": true
      },
      "execution_count": 21,
      "outputs": [
        {
          "execution_count": 21,
          "output_type": "execute_result",
          "data": {
            "text/plain": "145310"
          },
          "metadata": {}
        }
      ]
    },
    {
      "cell_type": "markdown",
      "source": "d. What is $n_{old}$?",
      "metadata": {}
    },
    {
      "cell_type": "code",
      "source": "#The amount of users for the control group\nn_old = df2.query('group == \"control\"').count()[0]\nn_old",
      "metadata": {
        "trusted": true
      },
      "execution_count": 22,
      "outputs": [
        {
          "execution_count": 22,
          "output_type": "execute_result",
          "data": {
            "text/plain": "145274"
          },
          "metadata": {}
        }
      ]
    },
    {
      "cell_type": "markdown",
      "source": "e. Simulate $n_{new}$ transactions with a convert rate of $p_{new}$ under the null.  Store these $n_{new}$ 1's and 0's in **new_page_converted**.",
      "metadata": {}
    },
    {
      "cell_type": "code",
      "source": "#Simulating the amount of conversions given the amount of users and the possibility of conversion\nnew_page_converted = np.random.choice([0,1], size=n_new, replace=True, p=[1-p_new,p_new])\nnp.bincount(new_page_converted)",
      "metadata": {
        "trusted": true
      },
      "execution_count": 23,
      "outputs": [
        {
          "execution_count": 23,
          "output_type": "execute_result",
          "data": {
            "text/plain": "array([128060,  17250])"
          },
          "metadata": {}
        }
      ]
    },
    {
      "cell_type": "markdown",
      "source": "f. Simulate $n_{old}$ transactions with a convert rate of $p_{old}$ under the null.  Store these $n_{old}$ 1's and 0's in **old_page_converted**.",
      "metadata": {}
    },
    {
      "cell_type": "code",
      "source": "#Simulating the amount of conversions given the amount of users and the possibility of conversion\nold_page_converted = np.random.choice([0,1], n_old, replace=True, p=[1-p_old,p_old])\nnp.bincount(old_page_converted)",
      "metadata": {
        "trusted": true
      },
      "execution_count": 24,
      "outputs": [
        {
          "execution_count": 24,
          "output_type": "execute_result",
          "data": {
            "text/plain": "array([127750,  17524])"
          },
          "metadata": {}
        }
      ]
    },
    {
      "cell_type": "markdown",
      "source": "g. Find $p_{new}$ - $p_{old}$ for the simulated values from part (e) and (f).",
      "metadata": {}
    },
    {
      "cell_type": "code",
      "source": "#The difference in the simulated values is found\nobs_diff = np.mean(new_page_converted)-np.mean(old_page_converted) \nobs_diff",
      "metadata": {
        "trusted": true
      },
      "execution_count": 25,
      "outputs": [
        {
          "execution_count": 25,
          "output_type": "execute_result",
          "data": {
            "text/plain": "-0.0019155087759115536"
          },
          "metadata": {}
        }
      ]
    },
    {
      "cell_type": "markdown",
      "source": "h. Simulate 10,000 $p_{new}$ - $p_{old}$ values using this same process similarly to parts **a. through g.**. All 10,000 values will be stored in **p_diffs**.",
      "metadata": {}
    },
    {
      "cell_type": "code",
      "source": "#10,000 simulations are run\np_diffs = []\nfor _ in range(10000):\n    new_p2 = np.random.choice([0,1], size=n_new,replace=True, p=[1-p_new,p_new])\n    old_p2 = np.random.choice([0,1], n_old, replace=True, p=[1-p_old,p_old])\n    p_diffs.append(np.mean(new_p2) - np.mean(old_p2))\np_diffs = np.array(p_diffs)\n",
      "metadata": {
        "trusted": true
      },
      "execution_count": 26,
      "outputs": []
    },
    {
      "cell_type": "markdown",
      "source": "i. A histogram of the **p_diffs** will be plotted.",
      "metadata": {}
    },
    {
      "cell_type": "code",
      "source": "plt.hist(p_diffs);\nplt.axvline(x=p_diff_real, color='red'); ",
      "metadata": {
        "trusted": true
      },
      "execution_count": 27,
      "outputs": [
        {
          "output_type": "display_data",
          "data": {
            "image/png": "[encoded data removed]",
            "text/plain": "<matplotlib.figure.Figure at 0x7fe2b25fa240>"
          },
          "metadata": {}
        }
      ]
    },
    {
      "cell_type": "markdown",
      "source": "The red line is the difference between the $p_{new}$ - $p_{old}$ values, which is very close to zero.   \nThe blue distribution is the 10,000 simulated cases, showing the expected standard distribution when considering the Central Limit Theorem. ",
      "metadata": {}
    },
    {
      "cell_type": "markdown",
      "source": "j. What proportion of the **p_diffs** are greater than the actual difference observed in **ab_data.csv**?",
      "metadata": {}
    },
    {
      "cell_type": "code",
      "source": "#Finding the mean of the simulated datapoints that are higher than the observed difference in ab_data.csv \n(p_diffs > p_diff_real).mean()\n",
      "metadata": {
        "trusted": true
      },
      "execution_count": 28,
      "outputs": [
        {
          "execution_count": 28,
          "output_type": "execute_result",
          "data": {
            "text/plain": "0.9011"
          },
          "metadata": {}
        }
      ]
    },
    {
      "cell_type": "markdown",
      "source": "k. What was just computed in part **j.**?.  What is this value called in scientific studies?  What does this value mean in terms of whether or not there is a difference between the new and old pages?",
      "metadata": {}
    },
    {
      "cell_type": "markdown",
      "source": "This is the p-value. The P-value shows that 90% of the simulated conversions are above the real difference observed. As the p-value is much larger than the used Type I error rate $\\alpha$ = 0.05, then we fail to reject the $H_0$ hypothesis.",
      "metadata": {}
    },
    {
      "cell_type": "markdown",
      "source": "l. There exists a built-in function to achieve similar results.  Though using the built-in might be easier to code, the above portions are a walkthrough of the ideas that are critical to correctly thinking about statistical significance. Below, the number of conversions for each page is calculated, as well as the number of individuals who received each page. Here `n_old` and `n_new` refer the the number of rows associated with the old page and new pages, respectively.",
      "metadata": {}
    },
    {
      "cell_type": "code",
      "source": "import statsmodels.api as sm\n#Finding the number of conversions for each page \nconvert_old = df2.query('group == \"control\" and converted == 1').count()[0]\nconvert_new = df2.query('group == \"treatment\" and converted == 1').count()[0]\nconvert_old, convert_new, n_old, n_new  ",
      "metadata": {
        "trusted": true
      },
      "execution_count": 29,
      "outputs": [
        {
          "execution_count": 29,
          "output_type": "execute_result",
          "data": {
            "text/plain": "(17489, 17264, 145274, 145310)"
          },
          "metadata": {}
        }
      ]
    },
    {
      "cell_type": "markdown",
      "source": "m. Now using the `stats.proportions_ztest` to compute the test statistic and p-value. ",
      "metadata": {}
    },
    {
      "cell_type": "code",
      "source": "z_score, p_value = sm.stats.proportions_ztest([convert_old, convert_new], [n_old, n_new],alternative = 'smaller')\n#The z-score, p-value and the significance of the z-score is computed.  \nz_score, p_value, norm.cdf(z_score)",
      "metadata": {
        "trusted": true
      },
      "execution_count": 30,
      "outputs": [
        {
          "execution_count": 30,
          "output_type": "execute_result",
          "data": {
            "text/plain": "(1.3109241984234394, 0.9050583127590245, 0.9050583127590245)"
          },
          "metadata": {}
        }
      ]
    },
    {
      "cell_type": "code",
      "source": "#The critical level for a Type I error of 5% for a one-sided z-test\nnorm.ppf(1-(0.05))",
      "metadata": {
        "trusted": true
      },
      "execution_count": 31,
      "outputs": [
        {
          "execution_count": 31,
          "output_type": "execute_result",
          "data": {
            "text/plain": "1.6448536269514722"
          },
          "metadata": {}
        }
      ]
    },
    {
      "cell_type": "markdown",
      "source": "n. What do the z-score and p-value computed in the previous question mean for the conversion rates of the old and new pages?  Do they agree with the findings in parts **j.** and **k.**?",
      "metadata": {}
    },
    {
      "cell_type": "markdown",
      "source": "The significance of the z-score is 0.91, which is below the critical level for a one-sided test at 1.65 for a Type I error $\\alpha$ = 5%. Again, we fail to reject the $H_0$ hypothesis, which agrees with the findings in part j and k.  \nThe P-value is the same as was found in part j.",
      "metadata": {}
    },
    {
      "cell_type": "markdown",
      "source": "<a id='regression'></a>\n### Part III - A regression approach\n\n`1.` In this final part, it is shown that the result achieved in the previous A/B test can also be achieved by performing regression.<br><br>\n\na. Since each row is either a conversion or no conversion, what type of regression should be performed?",
      "metadata": {}
    },
    {
      "cell_type": "markdown",
      "source": "Since the dataset is binary, a logistic regression will be used",
      "metadata": {}
    },
    {
      "cell_type": "markdown",
      "source": "b. The goal is to use **statsmodels** to fit the regression model specified in part **a.** to see if there is a significant difference in conversion based on which page a customer receives.  However, first create a column for the intercept, and create a dummy variable column for which page each user received.  A **intercept** column, as well as an **ab_page** column will be added, which is 1 when an individual receives the **treatment** and 0 if **control**.",
      "metadata": {}
    },
    {
      "cell_type": "code",
      "source": "df2['intercept'] = 1\n# Column which is 1 when an individual receives the treatment and 0 if control\ndf2[['control','ab_page']] = pd.get_dummies(df2['group'])\ndf2.head()",
      "metadata": {
        "trusted": true
      },
      "execution_count": 32,
      "outputs": [
        {
          "execution_count": 32,
          "output_type": "execute_result",
          "data": {
            "text/html": "<div>\n<table border=\"1\" class=\"dataframe\">\n  <thead>\n    <tr style=\"text-align: right;\">\n      <th></th>\n      <th>user_id</th>\n      <th>timestamp</th>\n      <th>group</th>\n      <th>landing_page</th>\n      <th>converted</th>\n      <th>intercept</th>\n      <th>control</th>\n      <th>ab_page</th>\n    </tr>\n  </thead>\n  <tbody>\n    <tr>\n      <th>0</th>\n      <td>851104</td>\n      <td>2017-01-21 22:11:48.556739</td>\n      <td>control</td>\n      <td>old_page</td>\n      <td>0</td>\n      <td>1</td>\n      <td>1</td>\n      <td>0</td>\n    </tr>\n    <tr>\n      <th>1</th>\n      <td>804228</td>\n      <td>2017-01-12 08:01:45.159739</td>\n      <td>control</td>\n      <td>old_page</td>\n      <td>0</td>\n      <td>1</td>\n      <td>1</td>\n      <td>0</td>\n    </tr>\n    <tr>\n      <th>2</th>\n      <td>661590</td>\n      <td>2017-01-11 16:55:06.154213</td>\n      <td>treatment</td>\n      <td>new_page</td>\n      <td>0</td>\n      <td>1</td>\n      <td>0</td>\n      <td>1</td>\n    </tr>\n    <tr>\n      <th>3</th>\n      <td>853541</td>\n      <td>2017-01-08 18:28:03.143765</td>\n      <td>treatment</td>\n      <td>new_page</td>\n      <td>0</td>\n      <td>1</td>\n      <td>0</td>\n      <td>1</td>\n    </tr>\n    <tr>\n      <th>4</th>\n      <td>864975</td>\n      <td>2017-01-21 01:52:26.210827</td>\n      <td>control</td>\n      <td>old_page</td>\n      <td>1</td>\n      <td>1</td>\n      <td>1</td>\n      <td>0</td>\n    </tr>\n  </tbody>\n</table>\n</div>",
            "text/plain": "   user_id                   timestamp      group landing_page  converted  \\\n0   851104  2017-01-21 22:11:48.556739    control     old_page          0   \n1   804228  2017-01-12 08:01:45.159739    control     old_page          0   \n2   661590  2017-01-11 16:55:06.154213  treatment     new_page          0   \n3   853541  2017-01-08 18:28:03.143765  treatment     new_page          0   \n4   864975  2017-01-21 01:52:26.210827    control     old_page          1   \n\n   intercept  control  ab_page  \n0          1        1        0  \n1          1        1        0  \n2          1        0        1  \n3          1        0        1  \n4          1        1        0  "
          },
          "metadata": {}
        }
      ]
    },
    {
      "cell_type": "code",
      "source": "df2['intercept'] = 1\n# Column which is 1 when an individual receives the treatment and 0 if control\ndf2[['control','ab_page']] = pd.get_dummies(df2['group'])\ndf2.head()",
      "metadata": {
        "trusted": true
      },
      "execution_count": 32,
      "outputs": [
        {
          "execution_count": 32,
          "output_type": "execute_result",
          "data": {
            "text/html": "<div>\n<table border=\"1\" class=\"dataframe\">\n  <thead>\n    <tr style=\"text-align: right;\">\n      <th></th>\n      <th>user_id</th>\n      <th>timestamp</th>\n      <th>group</th>\n      <th>landing_page</th>\n      <th>converted</th>\n      <th>intercept</th>\n      <th>control</th>\n      <th>ab_page</th>\n    </tr>\n  </thead>\n  <tbody>\n    <tr>\n      <th>0</th>\n      <td>851104</td>\n      <td>2017-01-21 22:11:48.556739</td>\n      <td>control</td>\n      <td>old_page</td>\n      <td>0</td>\n      <td>1</td>\n      <td>1</td>\n      <td>0</td>\n    </tr>\n    <tr>\n      <th>1</th>\n      <td>804228</td>\n      <td>2017-01-12 08:01:45.159739</td>\n      <td>control</td>\n      <td>old_page</td>\n      <td>0</td>\n      <td>1</td>\n      <td>1</td>\n      <td>0</td>\n    </tr>\n    <tr>\n      <th>2</th>\n      <td>661590</td>\n      <td>2017-01-11 16:55:06.154213</td>\n      <td>treatment</td>\n      <td>new_page</td>\n      <td>0</td>\n      <td>1</td>\n      <td>0</td>\n      <td>1</td>\n    </tr>\n    <tr>\n      <th>3</th>\n      <td>853541</td>\n      <td>2017-01-08 18:28:03.143765</td>\n      <td>treatment</td>\n      <td>new_page</td>\n      <td>0</td>\n      <td>1</td>\n      <td>0</td>\n      <td>1</td>\n    </tr>\n    <tr>\n      <th>4</th>\n      <td>864975</td>\n      <td>2017-01-21 01:52:26.210827</td>\n      <td>control</td>\n      <td>old_page</td>\n      <td>1</td>\n      <td>1</td>\n      <td>1</td>\n      <td>0</td>\n    </tr>\n  </tbody>\n</table>\n</div>",
            "text/plain": "   user_id                   timestamp      group landing_page  converted  \\\n0   851104  2017-01-21 22:11:48.556739    control     old_page          0   \n1   804228  2017-01-12 08:01:45.159739    control     old_page          0   \n2   661590  2017-01-11 16:55:06.154213  treatment     new_page          0   \n3   853541  2017-01-08 18:28:03.143765  treatment     new_page          0   \n4   864975  2017-01-21 01:52:26.210827    control     old_page          1   \n\n   intercept  control  ab_page  \n0          1        1        0  \n1          1        1        0  \n2          1        0        1  \n3          1        0        1  \n4          1        1        0  "
          },
          "metadata": {}
        }
      ]
    },
    {
      "cell_type": "markdown",
      "source": "c. Use **statsmodels** to import the regression model.  Instantiate the model, and fit the model using the two columns created in part **b.** to predict whether or not an individual converts.",
      "metadata": {}
    },
    {
      "cell_type": "code",
      "source": "#The logit model is fitted\nlm = sm.Logit(df2['converted'], df2[['intercept', 'ab_page']])  \nresults = lm.fit(desp=0)\nprint(results.params)",
      "metadata": {
        "trusted": true
      },
      "execution_count": 43,
      "outputs": [
        {
          "text": "Optimization terminated successfully.\n         Current function value: 0.366118\n         Iterations 6\nintercept   -1.988777\nab_page     -0.014989\ndtype: float64\n",
          "name": "stdout",
          "output_type": "stream"
        }
      ]
    },
    {
      "cell_type": "markdown",
      "source": "d. Provide the summary of your model below, and use it as necessary to answer the following questions.",
      "metadata": {}
    },
    {
      "cell_type": "code",
      "source": "margeff = results.get_margeff()\nprint(margeff.summary())",
      "metadata": {
        "trusted": true
      },
      "execution_count": 45,
      "outputs": [
        {
          "text": "        Logit Marginal Effects       \n=====================================\nDep. Variable:              converted\nMethod:                          dydx\nAt:                           overall\n==============================================================================\n                dy/dx    std err          z      P>|z|      [0.025      0.975]\n------------------------------------------------------------------------------\nab_page       -0.0016      0.001     -1.311      0.190      -0.004       0.001\n==============================================================================\n",
          "name": "stdout",
          "output_type": "stream"
        }
      ]
    },
    {
      "cell_type": "markdown",
      "source": "e. What is the p-value associated with **ab_page**? Why does it differ from the value you found in the **Part II**?<br><br>",
      "metadata": {}
    },
    {
      "cell_type": "markdown",
      "source": "##### Answer\nThe **P-value** should be 0.19",
      "metadata": {}
    },
    {
      "cell_type": "markdown",
      "source": "The investigated hypotheses are:  \n$H_0 = p_{new} - p_{old} \\leq 0$  \n$H_1 = p_{new} - p_{old} > 0$  \nThe P-value is 0.190 and since it is greater than the Type I error $\\alpha$ = 0.05 then we again fail to reject the null hypothesis. Again, it is recommended to keep the old page.  \nIn Part II I tested using a one-sided z-test and in this regression a two-sided test has been used hence explaining the difference in P-values",
      "metadata": {}
    },
    {
      "cell_type": "markdown",
      "source": "f. Now, considering other things that might influence whether or not an individual converts.  Discuss why it is a good idea to consider other factors to add into the regression model.  Are there any disadvantages to adding additional terms into the regression model?",
      "metadata": {}
    },
    {
      "cell_type": "markdown",
      "source": "**Answer**  \nOther factors than provided in this dataset could influence this A/B test. The actual interesting parameters will always depend on the investigated case.\nWhen adding other parameters to the model you should be aware of potentially introducing multicollinearity, as the parameters could be depending on each other and then influence the results.",
      "metadata": {}
    },
    {
      "cell_type": "markdown",
      "source": "g. Now along with testing if the conversion rate changes for different pages, also add an effect based on which country a user lives. \nDoes it appear that country had an impact on conversion? ",
      "metadata": {}
    },
    {
      "cell_type": "code",
      "source": "#The country dataset is read and joined with the existing dataset\ndf3 = pd.read_csv('countries.csv')\ndf3.head()",
      "metadata": {
        "trusted": true
      },
      "execution_count": 46,
      "outputs": [
        {
          "execution_count": 46,
          "output_type": "execute_result",
          "data": {
            "text/html": "<div>\n<table border=\"1\" class=\"dataframe\">\n  <thead>\n    <tr style=\"text-align: right;\">\n      <th></th>\n      <th>user_id</th>\n      <th>country</th>\n    </tr>\n  </thead>\n  <tbody>\n    <tr>\n      <th>0</th>\n      <td>834778</td>\n      <td>UK</td>\n    </tr>\n    <tr>\n      <th>1</th>\n      <td>928468</td>\n      <td>US</td>\n    </tr>\n    <tr>\n      <th>2</th>\n      <td>822059</td>\n      <td>UK</td>\n    </tr>\n    <tr>\n      <th>3</th>\n      <td>711597</td>\n      <td>UK</td>\n    </tr>\n    <tr>\n      <th>4</th>\n      <td>710616</td>\n      <td>UK</td>\n    </tr>\n  </tbody>\n</table>\n</div>",
            "text/plain": "   user_id country\n0   834778      UK\n1   928468      US\n2   822059      UK\n3   711597      UK\n4   710616      UK"
          },
          "metadata": {}
        }
      ]
    },
    {
      "cell_type": "code",
      "source": "# Maerge two files\ndf4 = df3.set_index('user_id').join(df2.set_index('user_id'))\ndf4.head()",
      "metadata": {
        "trusted": true
      },
      "execution_count": 47,
      "outputs": [
        {
          "execution_count": 47,
          "output_type": "execute_result",
          "data": {
            "text/html": "<div>\n<table border=\"1\" class=\"dataframe\">\n  <thead>\n    <tr style=\"text-align: right;\">\n      <th></th>\n      <th>country</th>\n      <th>timestamp</th>\n      <th>group</th>\n      <th>landing_page</th>\n      <th>converted</th>\n      <th>intercept</th>\n      <th>control</th>\n      <th>ab_page</th>\n    </tr>\n    <tr>\n      <th>user_id</th>\n      <th></th>\n      <th></th>\n      <th></th>\n      <th></th>\n      <th></th>\n      <th></th>\n      <th></th>\n      <th></th>\n    </tr>\n  </thead>\n  <tbody>\n    <tr>\n      <th>834778</th>\n      <td>UK</td>\n      <td>2017-01-14 23:08:43.304998</td>\n      <td>control</td>\n      <td>old_page</td>\n      <td>0</td>\n      <td>1</td>\n      <td>1</td>\n      <td>0</td>\n    </tr>\n    <tr>\n      <th>928468</th>\n      <td>US</td>\n      <td>2017-01-23 14:44:16.387854</td>\n      <td>treatment</td>\n      <td>new_page</td>\n      <td>0</td>\n      <td>1</td>\n      <td>0</td>\n      <td>1</td>\n    </tr>\n    <tr>\n      <th>822059</th>\n      <td>UK</td>\n      <td>2017-01-16 14:04:14.719771</td>\n      <td>treatment</td>\n      <td>new_page</td>\n      <td>1</td>\n      <td>1</td>\n      <td>0</td>\n      <td>1</td>\n    </tr>\n    <tr>\n      <th>711597</th>\n      <td>UK</td>\n      <td>2017-01-22 03:14:24.763511</td>\n      <td>control</td>\n      <td>old_page</td>\n      <td>0</td>\n      <td>1</td>\n      <td>1</td>\n      <td>0</td>\n    </tr>\n    <tr>\n      <th>710616</th>\n      <td>UK</td>\n      <td>2017-01-16 13:14:44.000513</td>\n      <td>treatment</td>\n      <td>new_page</td>\n      <td>0</td>\n      <td>1</td>\n      <td>0</td>\n      <td>1</td>\n    </tr>\n  </tbody>\n</table>\n</div>",
            "text/plain": "        country                   timestamp      group landing_page  \\\nuser_id                                                               \n834778       UK  2017-01-14 23:08:43.304998    control     old_page   \n928468       US  2017-01-23 14:44:16.387854  treatment     new_page   \n822059       UK  2017-01-16 14:04:14.719771  treatment     new_page   \n711597       UK  2017-01-22 03:14:24.763511    control     old_page   \n710616       UK  2017-01-16 13:14:44.000513  treatment     new_page   \n\n         converted  intercept  control  ab_page  \nuser_id                                          \n834778           0          1        1        0  \n928468           0          1        0        1  \n822059           1          1        0        1  \n711597           0          1        1        0  \n710616           0          1        0        1  "
          },
          "metadata": {}
        }
      ]
    },
    {
      "cell_type": "code",
      "source": "#Different countries in the dataset\ndf4['country'].value_counts()",
      "metadata": {
        "trusted": true
      },
      "execution_count": 48,
      "outputs": [
        {
          "execution_count": 48,
          "output_type": "execute_result",
          "data": {
            "text/plain": "US    203619\nUK     72466\nCA     14499\nName: country, dtype: int64"
          },
          "metadata": {}
        }
      ]
    },
    {
      "cell_type": "code",
      "source": "#Getting dummies\ndf4[['CA','UK','US']] = pd.get_dummies(df4['country'])\ndf4.head()",
      "metadata": {
        "trusted": true
      },
      "execution_count": 49,
      "outputs": [
        {
          "execution_count": 49,
          "output_type": "execute_result",
          "data": {
            "text/html": "<div>\n<table border=\"1\" class=\"dataframe\">\n  <thead>\n    <tr style=\"text-align: right;\">\n      <th></th>\n      <th>country</th>\n      <th>timestamp</th>\n      <th>group</th>\n      <th>landing_page</th>\n      <th>converted</th>\n      <th>intercept</th>\n      <th>control</th>\n      <th>ab_page</th>\n      <th>CA</th>\n      <th>UK</th>\n      <th>US</th>\n    </tr>\n    <tr>\n      <th>user_id</th>\n      <th></th>\n      <th></th>\n      <th></th>\n      <th></th>\n      <th></th>\n      <th></th>\n      <th></th>\n      <th></th>\n      <th></th>\n      <th></th>\n      <th></th>\n    </tr>\n  </thead>\n  <tbody>\n    <tr>\n      <th>834778</th>\n      <td>UK</td>\n      <td>2017-01-14 23:08:43.304998</td>\n      <td>control</td>\n      <td>old_page</td>\n      <td>0</td>\n      <td>1</td>\n      <td>1</td>\n      <td>0</td>\n      <td>0</td>\n      <td>1</td>\n      <td>0</td>\n    </tr>\n    <tr>\n      <th>928468</th>\n      <td>US</td>\n      <td>2017-01-23 14:44:16.387854</td>\n      <td>treatment</td>\n      <td>new_page</td>\n      <td>0</td>\n      <td>1</td>\n      <td>0</td>\n      <td>1</td>\n      <td>0</td>\n      <td>0</td>\n      <td>1</td>\n    </tr>\n    <tr>\n      <th>822059</th>\n      <td>UK</td>\n      <td>2017-01-16 14:04:14.719771</td>\n      <td>treatment</td>\n      <td>new_page</td>\n      <td>1</td>\n      <td>1</td>\n      <td>0</td>\n      <td>1</td>\n      <td>0</td>\n      <td>1</td>\n      <td>0</td>\n    </tr>\n    <tr>\n      <th>711597</th>\n      <td>UK</td>\n      <td>2017-01-22 03:14:24.763511</td>\n      <td>control</td>\n      <td>old_page</td>\n      <td>0</td>\n      <td>1</td>\n      <td>1</td>\n      <td>0</td>\n      <td>0</td>\n      <td>1</td>\n      <td>0</td>\n    </tr>\n    <tr>\n      <th>710616</th>\n      <td>UK</td>\n      <td>2017-01-16 13:14:44.000513</td>\n      <td>treatment</td>\n      <td>new_page</td>\n      <td>0</td>\n      <td>1</td>\n      <td>0</td>\n      <td>1</td>\n      <td>0</td>\n      <td>1</td>\n      <td>0</td>\n    </tr>\n  </tbody>\n</table>\n</div>",
            "text/plain": "        country                   timestamp      group landing_page  \\\nuser_id                                                               \n834778       UK  2017-01-14 23:08:43.304998    control     old_page   \n928468       US  2017-01-23 14:44:16.387854  treatment     new_page   \n822059       UK  2017-01-16 14:04:14.719771  treatment     new_page   \n711597       UK  2017-01-22 03:14:24.763511    control     old_page   \n710616       UK  2017-01-16 13:14:44.000513  treatment     new_page   \n\n         converted  intercept  control  ab_page  CA  UK  US  \nuser_id                                                      \n834778           0          1        1        0   0   1   0  \n928468           0          1        0        1   0   0   1  \n822059           1          1        0        1   0   1   0  \n711597           0          1        1        0   0   1   0  \n710616           0          1        0        1   0   1   0  "
          },
          "metadata": {}
        }
      ]
    },
    {
      "cell_type": "code",
      "source": "#The logit model is fitted to the data\nlm = sm.Logit(df4[",
      "metadata": {
        "trusted": true
      },
      "execution_count": 50,
      "outputs": []
    },
    {
      "cell_type": "code",
      "source": "'converted'],df4[['intercept','UK','US']])\nresults = lm.fit()\nmargeff = results.get_margeff()\nprint(margeff.summary())",
      "metadata": {
        "trusted": true
      },
      "execution_count": 50,
      "outputs": [
        {
          "text": "Optimization terminated successfully.\n         Current function value: 0.366116\n         Iterations 6\n        Logit Marginal Effects       \n=====================================\nDep. Variable:              converted\nMethod:                          dydx\nAt:                           overall\n==============================================================================\n                dy/dx    std err          z      P>|z|      [0.025      0.975]\n------------------------------------------------------------------------------\nUK             0.0053      0.003      1.786      0.074      -0.001       0.011\nUS             0.0043      0.003      1.518      0.129      -0.001       0.010\n==============================================================================\n",
          "name": "stdout",
          "output_type": "stream"
        }
      ]
    },
    {
      "cell_type": "markdown",
      "source": "The countries have a P-value above the Type I error rate, which indicates that they do not have a significant influence on the conversion. We still fail to reject the null hypothesis.",
      "metadata": {}
    },
    {
      "cell_type": "markdown",
      "source": "h. Though after looking at the individual factors of country and page on conversion, now it is time to look at an interaction between page and country to see if there are significant effects on conversion. ",
      "metadata": {}
    },
    {
      "cell_type": "code",
      "source": "df4[['new','old']] = pd.get_dummies(df4['landing_page'])\ndf4.head()",
      "metadata": {
        "trusted": true
      },
      "execution_count": 51,
      "outputs": [
        {
          "execution_count": 51,
          "output_type": "execute_result",
          "data": {
            "text/html": "<div>\n<table border=\"1\" class=\"dataframe\">\n  <thead>\n    <tr style=\"text-align: right;\">\n      <th></th>\n      <th>country</th>\n      <th>timestamp</th>\n      <th>group</th>\n      <th>landing_page</th>\n      <th>converted</th>\n      <th>intercept</th>\n      <th>control</th>\n      <th>ab_page</th>\n      <th>CA</th>\n      <th>UK</th>\n      <th>US</th>\n      <th>new</th>\n      <th>old</th>\n    </tr>\n    <tr>\n      <th>user_id</th>\n      <th></th>\n      <th></th>\n      <th></th>\n      <th></th>\n      <th></th>\n      <th></th>\n      <th></th>\n      <th></th>\n      <th></th>\n      <th></th>\n      <th></th>\n      <th></th>\n      <th></th>\n    </tr>\n  </thead>\n  <tbody>\n    <tr>\n      <th>834778</th>\n      <td>UK</td>\n      <td>2017-01-14 23:08:43.304998</td>\n      <td>control</td>\n      <td>old_page</td>\n      <td>0</td>\n      <td>1</td>\n      <td>1</td>\n      <td>0</td>\n      <td>0</td>\n      <td>1</td>\n      <td>0</td>\n      <td>0</td>\n      <td>1</td>\n    </tr>\n    <tr>\n      <th>928468</th>\n      <td>US</td>\n      <td>2017-01-23 14:44:16.387854</td>\n      <td>treatment</td>\n      <td>new_page</td>\n      <td>0</td>\n      <td>1</td>\n      <td>0</td>\n      <td>1</td>\n      <td>0</td>\n      <td>0</td>\n      <td>1</td>\n      <td>1</td>\n      <td>0</td>\n    </tr>\n    <tr>\n      <th>822059</th>\n      <td>UK</td>\n      <td>2017-01-16 14:04:14.719771</td>\n      <td>treatment</td>\n      <td>new_page</td>\n      <td>1</td>\n      <td>1</td>\n      <td>0</td>\n      <td>1</td>\n      <td>0</td>\n      <td>1</td>\n      <td>0</td>\n      <td>1</td>\n      <td>0</td>\n    </tr>\n    <tr>\n      <th>711597</th>\n      <td>UK</td>\n      <td>2017-01-22 03:14:24.763511</td>\n      <td>control</td>\n      <td>old_page</td>\n      <td>0</td>\n      <td>1</td>\n      <td>1</td>\n      <td>0</td>\n      <td>0</td>\n      <td>1</td>\n      <td>0</td>\n      <td>0</td>\n      <td>1</td>\n    </tr>\n    <tr>\n      <th>710616</th>\n      <td>UK</td>\n      <td>2017-01-16 13:14:44.000513</td>\n      <td>treatment</td>\n      <td>new_page</td>\n      <td>0</td>\n      <td>1</td>\n      <td>0</td>\n      <td>1</td>\n      <td>0</td>\n      <td>1</td>\n      <td>0</td>\n      <td>1</td>\n      <td>0</td>\n    </tr>\n  </tbody>\n</table>\n</div>",
            "text/plain": "        country                   timestamp      group landing_page  \\\nuser_id                                                               \n834778       UK  2017-01-14 23:08:43.304998    control     old_page   \n928468       US  2017-01-23 14:44:16.387854  treatment     new_page   \n822059       UK  2017-01-16 14:04:14.719771  treatment     new_page   \n711597       UK  2017-01-22 03:14:24.763511    control     old_page   \n710616       UK  2017-01-16 13:14:44.000513  treatment     new_page   \n\n         converted  intercept  control  ab_page  CA  UK  US  new  old  \nuser_id                                                                \n834778           0          1        1        0   0   1   0    0    1  \n928468           0          1        0        1   0   0   1    1    0  \n822059           1          1        0        1   0   1   0    1    0  \n711597           0          1        1        0   0   1   0    0    1  \n710616           0          1        0        1   0   1   0    1    0  "
          },
          "metadata": {}
        }
      ]
    },
    {
      "cell_type": "code",
      "source": "lm = sm.Logit(df4['converted'],df4[['intercept','new','UK','US']])\nresults = lm.fit()\nmargeff = results.get_margeff()\nprint(margeff.summary())",
      "metadata": {
        "trusted": true
      },
      "execution_count": 53,
      "outputs": [
        {
          "text": "Optimization terminated successfully.\n         Current function value: 0.366113\n         Iterations 6\n        Logit Marginal Effects       \n=====================================\nDep. Variable:              converted\nMethod:                          dydx\nAt:                           overall\n==============================================================================\n                dy/dx    std err          z      P>|z|      [0.025      0.975]\n------------------------------------------------------------------------------\nnew           -0.0016      0.001     -1.307      0.191      -0.004       0.001\nUK             0.0053      0.003      1.784      0.075      -0.001       0.011\nUS             0.0043      0.003      1.516      0.130      -0.001       0.010\n==============================================================================\n",
          "name": "stdout",
          "output_type": "stream"
        }
      ]
    },
    {
      "cell_type": "markdown",
      "source": "No significant effects are seen on the conversion and we still fail to reject the null hypothesis.",
      "metadata": {}
    }
  ]
}