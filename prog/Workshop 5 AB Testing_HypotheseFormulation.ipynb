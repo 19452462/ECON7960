{
 "cells": [
  {
   "cell_type": "markdown",
   "metadata": {},
   "source": [
    "# Workshop 5: Formulating Hypothesis and MVT\n",
    "\n",
    "__A/B Testing__\n",
    "Suppose you have a predicted churn with 95% accuracy. By calling customers who are likely to churn and giving them \n",
    "attractive offers you are assuming 10% of them will retain and will bring 20 USD of revenue per customer.But, these are a lot of \n",
    "assumptions:-\n",
    "- Firstly, the model accuracy is 95%. Next months their will be new customers, new campaigns,new product features, \n",
    "marketing & brand activities, new seasonality and so on. Historical and real accuracy rarely match in these scenarios.so, \n",
    "we can't provide any conclusion without any conclusion.\n",
    "- Next, we are assuming that there will be 10% conversion. But, we cannot that your new action will have 10% conversion \n",
    "due to the factors above.Moreover, since it is a new group their actions are unpredictable.\n",
    "- Finally, we are assuming that each of these customers will bring 20 USD as monthly revenue. But, it doesn't mean they will\n",
    "bring the same after your new action.\n",
    "And to see what is going to happen we perform an A/B Test."
   ]
  },
  {
   "cell_type": "markdown",
   "metadata": {},
   "source": [
    "Going forward with the example above, our hypothesis is, test group will have more retention:\n",
    "Group A → Offer → Higher Retention\n",
    "Group B → No offer → Lower Retention\n",
    "This also helps us to test model accuracy as well. If group B’s retention rate is 50%, it clearly shows that our model is not \n",
    "working. The same applies to measure revenue coming from those users too.\n",
    "In this case our success metric will be retention rate of both groups."
   ]
  },
  {
   "cell_type": "code",
   "execution_count": 1,
   "metadata": {},
   "outputs": [],
   "source": [
    "#import libraries\n",
    "from datetime import datetime, timedelta, date\n",
    "import pandas as pd\n",
    "%matplotlib inline\n",
    "from sklearn.metrics import classification_report, confusion_matrix\n",
    "import matplotlib.pyplot as plt\n",
    "import numpy as np\n",
    "import seaborn as sns\n",
    "from sklearn.cluster import KMeans\n",
    "import sklearn\n",
    "from sklearn.model_selection import KFold, cross_val_score, train_test_split"
   ]
  },
  {
   "cell_type": "markdown",
   "metadata": {},
   "source": [
    "Now we are going to create our own dataset. The dataset will contain the columns below:\n",
    "- customer_id: the unique identifier of the customer\n",
    "- segment: customer’s segment; high-value or low-value\n",
    "- group: indicates whether the customer is in the test or control group\n",
    "- purchase_count: # of purchases completed by the customer"
   ]
  },
  {
   "cell_type": "code",
   "execution_count": 2,
   "metadata": {},
   "outputs": [],
   "source": [
    "df_hv = pd.DataFrame()\n",
    "df_hv['customer_id'] = np.array([count for count in range(20000)])\n",
    "df_hv['segment'] = np.array(['high-value' for _ in range(20000)])\n",
    "df_hv['group'] = 'control'\n",
    "df_hv.loc[df_hv.index<10000,'group'] = 'test'"
   ]
  },
  {
   "cell_type": "markdown",
   "metadata": {},
   "source": [
    "Ideally, purchase count should be a Poisson distribution. There will be customers with no purchase and we will have less\n",
    "customers with high purchase counts. Let’s use numpy.random.poisson() for doing that and assign different \n",
    "distributions to test and control group:"
   ]
  },
  {
   "cell_type": "code",
   "execution_count": 3,
   "metadata": {},
   "outputs": [],
   "source": [
    "df_hv.loc[df_hv.group == 'test', 'purchase_count'] = np.random.poisson(0.6, 10000)\n",
    "df_hv.loc[df_hv.group == 'control', 'purchase_count'] = np.random.poisson(0.5, 10000)"
   ]
  },
  {
   "cell_type": "code",
   "execution_count": 4,
   "metadata": {},
   "outputs": [
    {
     "data": {
      "text/html": [
       "<div>\n",
       "<style scoped>\n",
       "    .dataframe tbody tr th:only-of-type {\n",
       "        vertical-align: middle;\n",
       "    }\n",
       "\n",
       "    .dataframe tbody tr th {\n",
       "        vertical-align: top;\n",
       "    }\n",
       "\n",
       "    .dataframe thead th {\n",
       "        text-align: right;\n",
       "    }\n",
       "</style>\n",
       "<table border=\"1\" class=\"dataframe\">\n",
       "  <thead>\n",
       "    <tr style=\"text-align: right;\">\n",
       "      <th></th>\n",
       "      <th>customer_id</th>\n",
       "      <th>segment</th>\n",
       "      <th>group</th>\n",
       "      <th>purchase_count</th>\n",
       "    </tr>\n",
       "  </thead>\n",
       "  <tbody>\n",
       "    <tr>\n",
       "      <td>0</td>\n",
       "      <td>0</td>\n",
       "      <td>high-value</td>\n",
       "      <td>test</td>\n",
       "      <td>1.0</td>\n",
       "    </tr>\n",
       "    <tr>\n",
       "      <td>1</td>\n",
       "      <td>1</td>\n",
       "      <td>high-value</td>\n",
       "      <td>test</td>\n",
       "      <td>0.0</td>\n",
       "    </tr>\n",
       "    <tr>\n",
       "      <td>2</td>\n",
       "      <td>2</td>\n",
       "      <td>high-value</td>\n",
       "      <td>test</td>\n",
       "      <td>2.0</td>\n",
       "    </tr>\n",
       "    <tr>\n",
       "      <td>3</td>\n",
       "      <td>3</td>\n",
       "      <td>high-value</td>\n",
       "      <td>test</td>\n",
       "      <td>0.0</td>\n",
       "    </tr>\n",
       "    <tr>\n",
       "      <td>4</td>\n",
       "      <td>4</td>\n",
       "      <td>high-value</td>\n",
       "      <td>test</td>\n",
       "      <td>1.0</td>\n",
       "    </tr>\n",
       "    <tr>\n",
       "      <td>5</td>\n",
       "      <td>5</td>\n",
       "      <td>high-value</td>\n",
       "      <td>test</td>\n",
       "      <td>0.0</td>\n",
       "    </tr>\n",
       "    <tr>\n",
       "      <td>6</td>\n",
       "      <td>6</td>\n",
       "      <td>high-value</td>\n",
       "      <td>test</td>\n",
       "      <td>0.0</td>\n",
       "    </tr>\n",
       "    <tr>\n",
       "      <td>7</td>\n",
       "      <td>7</td>\n",
       "      <td>high-value</td>\n",
       "      <td>test</td>\n",
       "      <td>2.0</td>\n",
       "    </tr>\n",
       "    <tr>\n",
       "      <td>8</td>\n",
       "      <td>8</td>\n",
       "      <td>high-value</td>\n",
       "      <td>test</td>\n",
       "      <td>0.0</td>\n",
       "    </tr>\n",
       "    <tr>\n",
       "      <td>9</td>\n",
       "      <td>9</td>\n",
       "      <td>high-value</td>\n",
       "      <td>test</td>\n",
       "      <td>0.0</td>\n",
       "    </tr>\n",
       "  </tbody>\n",
       "</table>\n",
       "</div>"
      ],
      "text/plain": [
       "   customer_id     segment group  purchase_count\n",
       "0            0  high-value  test             1.0\n",
       "1            1  high-value  test             0.0\n",
       "2            2  high-value  test             2.0\n",
       "3            3  high-value  test             0.0\n",
       "4            4  high-value  test             1.0\n",
       "5            5  high-value  test             0.0\n",
       "6            6  high-value  test             0.0\n",
       "7            7  high-value  test             2.0\n",
       "8            8  high-value  test             0.0\n",
       "9            9  high-value  test             0.0"
      ]
     },
     "execution_count": 4,
     "metadata": {},
     "output_type": "execute_result"
    }
   ],
   "source": [
    "df_hv.head(10)"
   ]
  },
  {
   "cell_type": "code",
   "execution_count": 5,
   "metadata": {},
   "outputs": [
    {
     "data": {
      "text/html": [
       "<div>\n",
       "<style scoped>\n",
       "    .dataframe tbody tr th:only-of-type {\n",
       "        vertical-align: middle;\n",
       "    }\n",
       "\n",
       "    .dataframe tbody tr th {\n",
       "        vertical-align: top;\n",
       "    }\n",
       "\n",
       "    .dataframe thead th {\n",
       "        text-align: right;\n",
       "    }\n",
       "</style>\n",
       "<table border=\"1\" class=\"dataframe\">\n",
       "  <thead>\n",
       "    <tr style=\"text-align: right;\">\n",
       "      <th></th>\n",
       "      <th>customer_id</th>\n",
       "      <th>segment</th>\n",
       "      <th>group</th>\n",
       "      <th>purchase_count</th>\n",
       "    </tr>\n",
       "  </thead>\n",
       "  <tbody>\n",
       "    <tr>\n",
       "      <td>19990</td>\n",
       "      <td>19990</td>\n",
       "      <td>high-value</td>\n",
       "      <td>control</td>\n",
       "      <td>0.0</td>\n",
       "    </tr>\n",
       "    <tr>\n",
       "      <td>19991</td>\n",
       "      <td>19991</td>\n",
       "      <td>high-value</td>\n",
       "      <td>control</td>\n",
       "      <td>1.0</td>\n",
       "    </tr>\n",
       "    <tr>\n",
       "      <td>19992</td>\n",
       "      <td>19992</td>\n",
       "      <td>high-value</td>\n",
       "      <td>control</td>\n",
       "      <td>0.0</td>\n",
       "    </tr>\n",
       "    <tr>\n",
       "      <td>19993</td>\n",
       "      <td>19993</td>\n",
       "      <td>high-value</td>\n",
       "      <td>control</td>\n",
       "      <td>0.0</td>\n",
       "    </tr>\n",
       "    <tr>\n",
       "      <td>19994</td>\n",
       "      <td>19994</td>\n",
       "      <td>high-value</td>\n",
       "      <td>control</td>\n",
       "      <td>0.0</td>\n",
       "    </tr>\n",
       "    <tr>\n",
       "      <td>19995</td>\n",
       "      <td>19995</td>\n",
       "      <td>high-value</td>\n",
       "      <td>control</td>\n",
       "      <td>1.0</td>\n",
       "    </tr>\n",
       "    <tr>\n",
       "      <td>19996</td>\n",
       "      <td>19996</td>\n",
       "      <td>high-value</td>\n",
       "      <td>control</td>\n",
       "      <td>0.0</td>\n",
       "    </tr>\n",
       "    <tr>\n",
       "      <td>19997</td>\n",
       "      <td>19997</td>\n",
       "      <td>high-value</td>\n",
       "      <td>control</td>\n",
       "      <td>0.0</td>\n",
       "    </tr>\n",
       "    <tr>\n",
       "      <td>19998</td>\n",
       "      <td>19998</td>\n",
       "      <td>high-value</td>\n",
       "      <td>control</td>\n",
       "      <td>1.0</td>\n",
       "    </tr>\n",
       "    <tr>\n",
       "      <td>19999</td>\n",
       "      <td>19999</td>\n",
       "      <td>high-value</td>\n",
       "      <td>control</td>\n",
       "      <td>0.0</td>\n",
       "    </tr>\n",
       "  </tbody>\n",
       "</table>\n",
       "</div>"
      ],
      "text/plain": [
       "       customer_id     segment    group  purchase_count\n",
       "19990        19990  high-value  control             0.0\n",
       "19991        19991  high-value  control             1.0\n",
       "19992        19992  high-value  control             0.0\n",
       "19993        19993  high-value  control             0.0\n",
       "19994        19994  high-value  control             0.0\n",
       "19995        19995  high-value  control             1.0\n",
       "19996        19996  high-value  control             0.0\n",
       "19997        19997  high-value  control             0.0\n",
       "19998        19998  high-value  control             1.0\n",
       "19999        19999  high-value  control             0.0"
      ]
     },
     "execution_count": 5,
     "metadata": {},
     "output_type": "execute_result"
    }
   ],
   "source": [
    "df_hv.tail(10)"
   ]
  },
  {
   "cell_type": "markdown",
   "metadata": {},
   "source": [
    "__High Value Customer Test Vs Control Group Comparison__"
   ]
  },
  {
   "cell_type": "code",
   "execution_count": 6,
   "metadata": {},
   "outputs": [],
   "source": [
    "#Assume we applied an offer to 50% of high-value users and observed their purchases in a given period. \n",
    "#Best way to visualize it to check the densities:\n",
    "test_results = df_hv[df_hv.group == 'test'].purchase_count\n",
    "control_results = df_hv[df_hv.group == 'control'].purchase_count\n",
    "\n",
    "hist_data = pd.DataFrame(list(zip(test_results, control_results)),columns=['test', 'control'])\n",
    "\n",
    "#group_labels = ['test', 'control']"
   ]
  },
  {
   "cell_type": "code",
   "execution_count": 7,
   "metadata": {
    "scrolled": false
   },
   "outputs": [
    {
     "data": {
      "image/png": "[encoded data removed]",
      "text/plain": [
       "<Figure size 1008x576 with 1 Axes>"
      ]
     },
     "metadata": {
      "needs_background": "light"
     },
     "output_type": "display_data"
    }
   ],
   "source": [
    "fig,ax = plt.subplots(figsize=(14,8))\n",
    "table = pd.crosstab(df_hv[\"group\"],df_hv[\"purchase_count\"])\n",
    "pd.crosstab(df_hv[\"group\"],df_hv[\"purchase_count\"]).div(table.sum(1).astype(float), axis=0).T.plot(kind='bar',ax=ax)\n",
    "plt.title(\"Proportion Plot High Value Customer Test Vs Control Group\")\n",
    "plt.xlabel(\"Purchase Count\")\n",
    "plt.legend([\"Control\",\"Test\"],loc='lower left',frameon=False)\n",
    "for p in ax.patches:\n",
    "    width, height = p.get_width(), p.get_height()\n",
    "    x, y = p.get_xy() \n",
    "    ax.annotate('{:.2%}'.format(height), (x, y + height + 0.01))\n",
    "plt.show() "
   ]
  },
  {
   "cell_type": "code",
   "execution_count": 8,
   "metadata": {},
   "outputs": [
    {
     "data": {
      "text/html": [
       "<div>\n",
       "<style scoped>\n",
       "    .dataframe tbody tr th:only-of-type {\n",
       "        vertical-align: middle;\n",
       "    }\n",
       "\n",
       "    .dataframe tbody tr th {\n",
       "        vertical-align: top;\n",
       "    }\n",
       "\n",
       "    .dataframe thead th {\n",
       "        text-align: right;\n",
       "    }\n",
       "</style>\n",
       "<table border=\"1\" class=\"dataframe\">\n",
       "  <thead>\n",
       "    <tr style=\"text-align: right;\">\n",
       "      <th>purchase_count</th>\n",
       "      <th>0.0</th>\n",
       "      <th>1.0</th>\n",
       "      <th>2.0</th>\n",
       "      <th>3.0</th>\n",
       "      <th>4.0</th>\n",
       "      <th>5.0</th>\n",
       "      <th>6.0</th>\n",
       "    </tr>\n",
       "    <tr>\n",
       "      <th>group</th>\n",
       "      <th></th>\n",
       "      <th></th>\n",
       "      <th></th>\n",
       "      <th></th>\n",
       "      <th></th>\n",
       "      <th></th>\n",
       "      <th></th>\n",
       "    </tr>\n",
       "  </thead>\n",
       "  <tbody>\n",
       "    <tr>\n",
       "      <td>control</td>\n",
       "      <td>6013</td>\n",
       "      <td>3042</td>\n",
       "      <td>783</td>\n",
       "      <td>141</td>\n",
       "      <td>20</td>\n",
       "      <td>1</td>\n",
       "      <td>0</td>\n",
       "    </tr>\n",
       "    <tr>\n",
       "      <td>test</td>\n",
       "      <td>5435</td>\n",
       "      <td>3295</td>\n",
       "      <td>1026</td>\n",
       "      <td>205</td>\n",
       "      <td>35</td>\n",
       "      <td>3</td>\n",
       "      <td>1</td>\n",
       "    </tr>\n",
       "  </tbody>\n",
       "</table>\n",
       "</div>"
      ],
      "text/plain": [
       "purchase_count   0.0   1.0   2.0  3.0  4.0  5.0  6.0\n",
       "group                                               \n",
       "control         6013  3042   783  141   20    1    0\n",
       "test            5435  3295  1026  205   35    3    1"
      ]
     },
     "execution_count": 8,
     "metadata": {},
     "output_type": "execute_result"
    }
   ],
   "source": [
    "table"
   ]
  },
  {
   "cell_type": "markdown",
   "metadata": {},
   "source": [
    "The results are looking really good. The density of the test group’s purchase is better starting from 1. \n",
    "But how we can certainly say this experiment is successful and the difference didn’t happen due to other factors?\n",
    "To answer this question, we need to check if the uptick in the test group is statistically significant. For this we will perform\n",
    "t-test."
   ]
  },
  {
   "cell_type": "code",
   "execution_count": 9,
   "metadata": {},
   "outputs": [
    {
     "name": "stdout",
     "output_type": "stream",
     "text": [
      "Ttest_indResult(statistic=9.45730648727188, pvalue=3.4988308783027235e-21)\n"
     ]
    }
   ],
   "source": [
    "from scipy import stats \n",
    "test_result = stats.ttest_ind(test_results, control_results)\n",
    "print(test_result)"
   ]
  },
  {
   "cell_type": "markdown",
   "metadata": {},
   "source": [
    "ttest_ind() method returns two output:\n",
    "t-statistic: represents the difference between averages of test and control group in units of standard error. \n",
    "Higher t-statistic value means bigger difference and supports our hypothesis.\n",
    "p-value: measures the probability of the null hypothesis to be true.\n",
    "If null hypothesis is true, it means there is no significant difference between your test and control group. So the lower \n",
    "p-value means the better. As the industry standard, we accept that p-value<5% makes the result statistically significant \n",
    "(but it depends on your business logic, there are cases that people use 10% or even 1%)"
   ]
  },
  {
   "cell_type": "code",
   "execution_count": 10,
   "metadata": {},
   "outputs": [],
   "source": [
    "def eval_test(test_results,control_results):\n",
    "    test_result = stats.ttest_ind(test_results, control_results)\n",
    "    if test_result[1] < 0.05:\n",
    "        print('result is significant')\n",
    "    else:\n",
    "        print('result is not significant')"
   ]
  },
  {
   "cell_type": "code",
   "execution_count": 11,
   "metadata": {},
   "outputs": [
    {
     "name": "stdout",
     "output_type": "stream",
     "text": [
      "result is significant\n"
     ]
    }
   ],
   "source": [
    "eval_test(test_result,control_results)"
   ]
  },
  {
   "cell_type": "markdown",
   "metadata": {},
   "source": [
    "__Blocking__"
   ]
  },
  {
   "cell_type": "code",
   "execution_count": 12,
   "metadata": {},
   "outputs": [],
   "source": [
    "#create hv segment\n",
    "df_hv = pd.DataFrame()\n",
    "df_hv['customer_id'] = np.array([count for count in range(20000)])\n",
    "df_hv['segment'] = np.array(['high-value' for _ in range(20000)])\n",
    "df_hv['prev_purchase_count'] = np.random.poisson(0.9, 20000)\n",
    "\n",
    "\n",
    "df_lv = pd.DataFrame()\n",
    "df_lv['customer_id'] = np.array([count for count in range(20000,100000)])\n",
    "df_lv['segment'] = np.array(['low-value' for _ in range(80000)])\n",
    "df_lv['prev_purchase_count'] = np.random.poisson(0.3, 80000)\n",
    "\n",
    "df_customers = pd.concat([df_hv,df_lv],axis=0)"
   ]
  },
  {
   "cell_type": "code",
   "execution_count": 13,
   "metadata": {},
   "outputs": [
    {
     "data": {
      "text/html": [
       "<div>\n",
       "<style scoped>\n",
       "    .dataframe tbody tr th:only-of-type {\n",
       "        vertical-align: middle;\n",
       "    }\n",
       "\n",
       "    .dataframe tbody tr th {\n",
       "        vertical-align: top;\n",
       "    }\n",
       "\n",
       "    .dataframe thead th {\n",
       "        text-align: right;\n",
       "    }\n",
       "</style>\n",
       "<table border=\"1\" class=\"dataframe\">\n",
       "  <thead>\n",
       "    <tr style=\"text-align: right;\">\n",
       "      <th></th>\n",
       "      <th>customer_id</th>\n",
       "      <th>segment</th>\n",
       "      <th>prev_purchase_count</th>\n",
       "    </tr>\n",
       "  </thead>\n",
       "  <tbody>\n",
       "    <tr>\n",
       "      <td>0</td>\n",
       "      <td>0</td>\n",
       "      <td>high-value</td>\n",
       "      <td>0</td>\n",
       "    </tr>\n",
       "    <tr>\n",
       "      <td>1</td>\n",
       "      <td>1</td>\n",
       "      <td>high-value</td>\n",
       "      <td>0</td>\n",
       "    </tr>\n",
       "    <tr>\n",
       "      <td>2</td>\n",
       "      <td>2</td>\n",
       "      <td>high-value</td>\n",
       "      <td>2</td>\n",
       "    </tr>\n",
       "    <tr>\n",
       "      <td>3</td>\n",
       "      <td>3</td>\n",
       "      <td>high-value</td>\n",
       "      <td>2</td>\n",
       "    </tr>\n",
       "    <tr>\n",
       "      <td>4</td>\n",
       "      <td>4</td>\n",
       "      <td>high-value</td>\n",
       "      <td>0</td>\n",
       "    </tr>\n",
       "  </tbody>\n",
       "</table>\n",
       "</div>"
      ],
      "text/plain": [
       "   customer_id     segment  prev_purchase_count\n",
       "0            0  high-value                    0\n",
       "1            1  high-value                    0\n",
       "2            2  high-value                    2\n",
       "3            3  high-value                    2\n",
       "4            4  high-value                    0"
      ]
     },
     "execution_count": 13,
     "metadata": {},
     "output_type": "execute_result"
    }
   ],
   "source": [
    "df_customers.head()\n",
    "#df_customers.shape"
   ]
  },
  {
   "cell_type": "code",
   "execution_count": 14,
   "metadata": {},
   "outputs": [
    {
     "data": {
      "text/html": [
       "<div>\n",
       "<style scoped>\n",
       "    .dataframe tbody tr th:only-of-type {\n",
       "        vertical-align: middle;\n",
       "    }\n",
       "\n",
       "    .dataframe tbody tr th {\n",
       "        vertical-align: top;\n",
       "    }\n",
       "\n",
       "    .dataframe thead th {\n",
       "        text-align: right;\n",
       "    }\n",
       "</style>\n",
       "<table border=\"1\" class=\"dataframe\">\n",
       "  <thead>\n",
       "    <tr style=\"text-align: right;\">\n",
       "      <th></th>\n",
       "      <th>customer_id</th>\n",
       "      <th>segment</th>\n",
       "      <th>prev_purchase_count</th>\n",
       "    </tr>\n",
       "  </thead>\n",
       "  <tbody>\n",
       "    <tr>\n",
       "      <td>79995</td>\n",
       "      <td>99995</td>\n",
       "      <td>low-value</td>\n",
       "      <td>0</td>\n",
       "    </tr>\n",
       "    <tr>\n",
       "      <td>79996</td>\n",
       "      <td>99996</td>\n",
       "      <td>low-value</td>\n",
       "      <td>0</td>\n",
       "    </tr>\n",
       "    <tr>\n",
       "      <td>79997</td>\n",
       "      <td>99997</td>\n",
       "      <td>low-value</td>\n",
       "      <td>0</td>\n",
       "    </tr>\n",
       "    <tr>\n",
       "      <td>79998</td>\n",
       "      <td>99998</td>\n",
       "      <td>low-value</td>\n",
       "      <td>0</td>\n",
       "    </tr>\n",
       "    <tr>\n",
       "      <td>79999</td>\n",
       "      <td>99999</td>\n",
       "      <td>low-value</td>\n",
       "      <td>0</td>\n",
       "    </tr>\n",
       "  </tbody>\n",
       "</table>\n",
       "</div>"
      ],
      "text/plain": [
       "       customer_id    segment  prev_purchase_count\n",
       "79995        99995  low-value                    0\n",
       "79996        99996  low-value                    0\n",
       "79997        99997  low-value                    0\n",
       "79998        99998  low-value                    0\n",
       "79999        99999  low-value                    0"
      ]
     },
     "execution_count": 14,
     "metadata": {},
     "output_type": "execute_result"
    }
   ],
   "source": [
    "df_customers.tail()"
   ]
  },
  {
   "cell_type": "code",
   "execution_count": 15,
   "metadata": {},
   "outputs": [
    {
     "data": {
      "text/plain": [
       "100000"
      ]
     },
     "execution_count": 15,
     "metadata": {},
     "output_type": "execute_result"
    }
   ],
   "source": [
    "len(df_customers)"
   ]
  },
  {
   "cell_type": "code",
   "execution_count": 16,
   "metadata": {},
   "outputs": [],
   "source": [
    "df_test = df_customers.sample(frac=0.9)\n",
    "df_control = df_customers[~df_customers.customer_id.isin(df_test.customer_id)]"
   ]
  },
  {
   "cell_type": "code",
   "execution_count": 17,
   "metadata": {},
   "outputs": [
    {
     "data": {
      "text/plain": [
       "low-value     72026\n",
       "high-value    17974\n",
       "Name: segment, dtype: int64"
      ]
     },
     "execution_count": 17,
     "metadata": {},
     "output_type": "execute_result"
    }
   ],
   "source": [
    "df_test.segment.value_counts()"
   ]
  },
  {
   "cell_type": "code",
   "execution_count": 18,
   "metadata": {},
   "outputs": [
    {
     "data": {
      "text/plain": [
       "low-value     7974\n",
       "high-value    2026\n",
       "Name: segment, dtype: int64"
      ]
     },
     "execution_count": 18,
     "metadata": {},
     "output_type": "execute_result"
    }
   ],
   "source": [
    "df_control.segment.value_counts()"
   ]
  },
  {
   "cell_type": "code",
   "execution_count": 19,
   "metadata": {},
   "outputs": [],
   "source": [
    "df_test_hv = df_customers[df_customers.segment == 'high-value'].sample(frac=0.9)\n",
    "df_test_lv = df_customers[df_customers.segment == 'low-value'].sample(frac=0.9)\n",
    "\n",
    "df_test = pd.concat([df_test_hv,df_test_lv],axis=0)\n",
    "df_control = df_customers[~df_customers.customer_id.isin(df_test.customer_id)]"
   ]
  },
  {
   "cell_type": "code",
   "execution_count": 20,
   "metadata": {},
   "outputs": [
    {
     "data": {
      "text/plain": [
       "low-value     72000\n",
       "high-value    18000\n",
       "Name: segment, dtype: int64"
      ]
     },
     "execution_count": 20,
     "metadata": {},
     "output_type": "execute_result"
    }
   ],
   "source": [
    "df_test.segment.value_counts()"
   ]
  },
  {
   "cell_type": "code",
   "execution_count": 21,
   "metadata": {},
   "outputs": [
    {
     "data": {
      "text/plain": [
       "low-value     8000\n",
       "high-value    2000\n",
       "Name: segment, dtype: int64"
      ]
     },
     "execution_count": 21,
     "metadata": {},
     "output_type": "execute_result"
    }
   ],
   "source": [
    "df_control.segment.value_counts()"
   ]
  },
  {
   "cell_type": "code",
   "execution_count": 22,
   "metadata": {},
   "outputs": [],
   "source": [
    "#create hv segment\n",
    "df_hv = pd.DataFrame()\n",
    "df_hv['customer_id'] = np.array([count for count in range(30000)])\n",
    "df_hv['segment'] = np.array(['high-value' for _ in range(30000)])\n",
    "df_hv['group'] = 'A'\n",
    "df_hv.loc[df_hv.index>=10000,'group'] = 'B' \n",
    "df_hv.loc[df_hv.index>=20000,'group'] = 'C'\n"
   ]
  },
  {
   "cell_type": "code",
   "execution_count": 23,
   "metadata": {},
   "outputs": [
    {
     "data": {
      "text/plain": [
       "A    10000\n",
       "C    10000\n",
       "B    10000\n",
       "Name: group, dtype: int64"
      ]
     },
     "execution_count": 23,
     "metadata": {},
     "output_type": "execute_result"
    }
   ],
   "source": [
    "df_hv.group.value_counts()"
   ]
  },
  {
   "cell_type": "code",
   "execution_count": 24,
   "metadata": {},
   "outputs": [],
   "source": [
    "df_hv.loc[df_hv.group == 'A', 'purchase_count'] = np.random.poisson(0.4, 10000)\n",
    "df_hv.loc[df_hv.group == 'B', 'purchase_count'] = np.random.poisson(0.6, 10000)\n",
    "df_hv.loc[df_hv.group == 'C', 'purchase_count'] = np.random.poisson(0.2, 10000)"
   ]
  },
  {
   "cell_type": "code",
   "execution_count": 25,
   "metadata": {},
   "outputs": [],
   "source": [
    "\n",
    "a_stats = df_hv[df_hv.group=='A'].purchase_count\n",
    "b_stats = df_hv[df_hv.group=='B'].purchase_count\n",
    "c_stats = df_hv[df_hv.group=='C'].purchase_count\n",
    "\n",
    "hist_data = [a_stats, b_stats, c_stats]\n",
    "\n",
    "group_labels = ['A', 'B','C']"
   ]
  },
  {
   "cell_type": "code",
   "execution_count": 26,
   "metadata": {},
   "outputs": [
    {
     "data": {
      "image/png": "[encoded data removed]",
      "text/plain": [
       "<Figure size 1008x576 with 1 Axes>"
      ]
     },
     "metadata": {
      "needs_background": "light"
     },
     "output_type": "display_data"
    }
   ],
   "source": [
    "fig,ax = plt.subplots(figsize=(14,8))\n",
    "table = pd.crosstab(df_hv[\"group\"],df_hv[\"purchase_count\"])\n",
    "pd.crosstab(df_hv[\"group\"],df_hv[\"purchase_count\"]).div(table.sum(1).astype(float), axis=0).T.plot(kind='bar',ax=ax)\n",
    "plt.title(\"Proportion Plot High Value Customer Test Vs Control Group\")\n",
    "plt.xlabel(\"Purchase Count\")\n",
    "plt.legend([\"Group A\",\"Group B\",\"Group C\"],loc='best',frameon=False)\n",
    "for p in ax.patches:\n",
    "    width, height = p.get_width(), p.get_height()\n",
    "    x, y = p.get_xy() \n",
    "    ax.annotate('{:.1%}'.format(height), (x, y + height + 0.01))\n",
    "plt.show() "
   ]
  },
  {
   "cell_type": "code",
   "execution_count": 27,
   "metadata": {},
   "outputs": [],
   "source": [
    "def one_anova_test(a_stats,b_stats,c_stats):\n",
    "    test_result = stats.f_oneway(a_stats, b_stats, c_stats)\n",
    "    if test_result[1] < 0.05:\n",
    "        print('result is significant')\n",
    "    else:\n",
    "        print('result is not significant')"
   ]
  },
  {
   "cell_type": "code",
   "execution_count": 28,
   "metadata": {},
   "outputs": [
    {
     "name": "stdout",
     "output_type": "stream",
     "text": [
      "result is significant\n"
     ]
    }
   ],
   "source": [
    "one_anova_test(a_stats,b_stats,c_stats)"
   ]
  },
  {
   "cell_type": "code",
   "execution_count": 29,
   "metadata": {},
   "outputs": [],
   "source": [
    "df_hv.loc[df_hv.group == 'A', 'purchase_count'] = np.random.poisson(0.5, 10000)\n",
    "df_hv.loc[df_hv.group == 'B', 'purchase_count'] = np.random.poisson(0.5, 10000)\n",
    "df_hv.loc[df_hv.group == 'C', 'purchase_count'] = np.random.poisson(0.5, 10000)"
   ]
  },
  {
   "cell_type": "code",
   "execution_count": 30,
   "metadata": {},
   "outputs": [],
   "source": [
    "a_stats = df_hv[df_hv.group=='A'].purchase_count\n",
    "b_stats = df_hv[df_hv.group=='B'].purchase_count\n",
    "c_stats = df_hv[df_hv.group=='C'].purchase_count\n",
    "\n",
    "hist_data = [a_stats, b_stats, c_stats]\n",
    "\n",
    "group_labels = ['A', 'B','C']"
   ]
  },
  {
   "cell_type": "code",
   "execution_count": 31,
   "metadata": {},
   "outputs": [
    {
     "data": {
      "image/png": "[encoded data removed]",
      "text/plain": [
       "<Figure size 1296x576 with 1 Axes>"
      ]
     },
     "metadata": {
      "needs_background": "light"
     },
     "output_type": "display_data"
    }
   ],
   "source": [
    "fig,ax = plt.subplots(figsize=(18,8))\n",
    "table = pd.crosstab(df_hv[\"group\"],df_hv[\"purchase_count\"])\n",
    "pd.crosstab(df_hv[\"group\"],df_hv[\"purchase_count\"]).div(table.sum(1).astype(float), axis=0).T.plot(kind='bar',ax=ax)\n",
    "plt.title(\"Test Vs Control Stats\")\n",
    "plt.xlabel(\"Purchase Count\")\n",
    "plt.legend([\"Group A\",\"Group B\",\"Group C\"],loc='best',frameon=False)\n",
    "for p in ax.patches:\n",
    "    width, height = p.get_width(), p.get_height()\n",
    "    x, y = p.get_xy() \n",
    "    ax.annotate('{:.1%}'.format(height), (x, y + height + 0.01))\n",
    "plt.show() "
   ]
  },
  {
   "cell_type": "code",
   "execution_count": 32,
   "metadata": {},
   "outputs": [
    {
     "name": "stdout",
     "output_type": "stream",
     "text": [
      "result is not significant\n"
     ]
    }
   ],
   "source": [
    "one_anova_test(a_stats,b_stats,c_stats)"
   ]
  },
  {
   "cell_type": "code",
   "execution_count": 33,
   "metadata": {},
   "outputs": [],
   "source": [
    "\n",
    "#create hv segment\n",
    "df_hv = pd.DataFrame()\n",
    "df_hv['customer_id'] = np.array([count for count in range(20000)])\n",
    "df_hv['segment'] = np.array(['high-value' for _ in range(20000)])\n",
    "df_hv['group'] = 'control'\n",
    "df_hv.loc[df_hv.index<10000,'group'] = 'test' \n",
    "df_hv.loc[df_hv.group == 'control', 'purchase_count'] = np.random.poisson(0.6, 10000)\n",
    "df_hv.loc[df_hv.group == 'test', 'purchase_count'] = np.random.poisson(0.8, 10000)\n",
    "\n",
    "\n",
    "df_lv = pd.DataFrame()\n",
    "df_lv['customer_id'] = np.array([count for count in range(20000,100000)])\n",
    "df_lv['segment'] = np.array(['low-value' for _ in range(80000)])\n",
    "df_lv['group'] = 'control'\n",
    "df_lv.loc[df_lv.index<40000,'group'] = 'test' \n",
    "df_lv.loc[df_lv.group == 'control', 'purchase_count'] = np.random.poisson(0.2, 40000)\n",
    "df_lv.loc[df_lv.group == 'test', 'purchase_count'] = np.random.poisson(0.3, 40000)\n",
    "\n",
    "df_customers = pd.concat([df_hv,df_lv],axis=0)"
   ]
  },
  {
   "cell_type": "code",
   "execution_count": 34,
   "metadata": {},
   "outputs": [
    {
     "data": {
      "text/html": [
       "<div>\n",
       "<style scoped>\n",
       "    .dataframe tbody tr th:only-of-type {\n",
       "        vertical-align: middle;\n",
       "    }\n",
       "\n",
       "    .dataframe tbody tr th {\n",
       "        vertical-align: top;\n",
       "    }\n",
       "\n",
       "    .dataframe thead th {\n",
       "        text-align: right;\n",
       "    }\n",
       "</style>\n",
       "<table border=\"1\" class=\"dataframe\">\n",
       "  <thead>\n",
       "    <tr style=\"text-align: right;\">\n",
       "      <th></th>\n",
       "      <th>customer_id</th>\n",
       "      <th>segment</th>\n",
       "      <th>group</th>\n",
       "      <th>purchase_count</th>\n",
       "    </tr>\n",
       "  </thead>\n",
       "  <tbody>\n",
       "    <tr>\n",
       "      <td>0</td>\n",
       "      <td>0</td>\n",
       "      <td>high-value</td>\n",
       "      <td>test</td>\n",
       "      <td>1.0</td>\n",
       "    </tr>\n",
       "    <tr>\n",
       "      <td>1</td>\n",
       "      <td>1</td>\n",
       "      <td>high-value</td>\n",
       "      <td>test</td>\n",
       "      <td>1.0</td>\n",
       "    </tr>\n",
       "    <tr>\n",
       "      <td>2</td>\n",
       "      <td>2</td>\n",
       "      <td>high-value</td>\n",
       "      <td>test</td>\n",
       "      <td>0.0</td>\n",
       "    </tr>\n",
       "    <tr>\n",
       "      <td>3</td>\n",
       "      <td>3</td>\n",
       "      <td>high-value</td>\n",
       "      <td>test</td>\n",
       "      <td>0.0</td>\n",
       "    </tr>\n",
       "    <tr>\n",
       "      <td>4</td>\n",
       "      <td>4</td>\n",
       "      <td>high-value</td>\n",
       "      <td>test</td>\n",
       "      <td>0.0</td>\n",
       "    </tr>\n",
       "  </tbody>\n",
       "</table>\n",
       "</div>"
      ],
      "text/plain": [
       "   customer_id     segment group  purchase_count\n",
       "0            0  high-value  test             1.0\n",
       "1            1  high-value  test             1.0\n",
       "2            2  high-value  test             0.0\n",
       "3            3  high-value  test             0.0\n",
       "4            4  high-value  test             0.0"
      ]
     },
     "execution_count": 34,
     "metadata": {},
     "output_type": "execute_result"
    }
   ],
   "source": [
    "df_customers.head()"
   ]
  },
  {
   "cell_type": "code",
   "execution_count": 35,
   "metadata": {},
   "outputs": [],
   "source": [
    "import statsmodels.formula.api as smf \n",
    "from statsmodels.stats.anova import anova_lm\n",
    "model = smf.ols(formula='purchase_count ~ segment + group ', data=df_customers).fit()\n",
    "aov_table = anova_lm(model, typ=2)"
   ]
  },
  {
   "cell_type": "code",
   "execution_count": 36,
   "metadata": {},
   "outputs": [
    {
     "name": "stdout",
     "output_type": "stream",
     "text": [
      "              sum_sq       df          F  PR(>F)\n",
      "segment    3144.4156      1.0  9326.0469     0.0\n",
      "group       356.0509      1.0  1056.0141     0.0\n",
      "Residual  33715.4773  99997.0        NaN     NaN\n"
     ]
    }
   ],
   "source": [
    "print(np.round(aov_table,4))\n"
   ]
  },
  {
   "cell_type": "code",
   "execution_count": 37,
   "metadata": {},
   "outputs": [],
   "source": [
    "#create hv segment\n",
    "df_hv = pd.DataFrame()\n",
    "df_hv['customer_id'] = np.array([count for count in range(20000)])\n",
    "df_hv['segment'] = np.array(['high-value' for _ in range(20000)])\n",
    "df_hv['group'] = 'control'\n",
    "df_hv.loc[df_hv.index<10000,'group'] = 'test' \n",
    "df_hv.loc[df_hv.group == 'control', 'purchase_count'] = np.random.poisson(0.8, 10000)\n",
    "df_hv.loc[df_hv.group == 'test', 'purchase_count'] = np.random.poisson(0.8, 10000)\n",
    "\n",
    "\n",
    "df_lv = pd.DataFrame()\n",
    "df_lv['customer_id'] = np.array([count for count in range(20000,100000)])\n",
    "df_lv['segment'] = np.array(['low-value' for _ in range(80000)])\n",
    "df_lv['group'] = 'control'\n",
    "df_lv.loc[df_lv.index<40000,'group'] = 'test' \n",
    "df_lv.loc[df_lv.group == 'control', 'purchase_count'] = np.random.poisson(0.2, 40000)\n",
    "df_lv.loc[df_lv.group == 'test', 'purchase_count'] = np.random.poisson(0.2, 40000)\n",
    "\n",
    "df_customers = pd.concat([df_hv,df_lv],axis=0)"
   ]
  },
  {
   "cell_type": "code",
   "execution_count": 38,
   "metadata": {},
   "outputs": [],
   "source": [
    "import statsmodels.formula.api as smf \n",
    "from statsmodels.stats.anova import anova_lm\n",
    "model = smf.ols(formula='purchase_count ~ segment + group ', data=df_customers).fit()\n",
    "aov_table = anova_lm(model, typ=2)"
   ]
  },
  {
   "cell_type": "code",
   "execution_count": 39,
   "metadata": {},
   "outputs": [
    {
     "name": "stdout",
     "output_type": "stream",
     "text": [
      "              sum_sq       df           F  PR(>F)\n",
      "segment    5750.6438      1.0  18059.7812  0.0000\n",
      "group         0.0689      1.0      0.2163  0.6418\n",
      "Residual  31841.3121  99997.0         NaN     NaN\n"
     ]
    }
   ],
   "source": [
    "print(np.round(aov_table,4))"
   ]
  },
  {
   "cell_type": "code",
   "execution_count": 40,
   "metadata": {},
   "outputs": [],
   "source": [
    "from statsmodels.stats import power\n",
    "ss_analysis = power.TTestIndPower()"
   ]
  },
  {
   "cell_type": "code",
   "execution_count": 41,
   "metadata": {},
   "outputs": [],
   "source": [
    "#create hv segment\n",
    "df_hv = pd.DataFrame()\n",
    "df_hv['customer_id'] = np.array([count for count in range(20000)])\n",
    "df_hv['segment'] = np.array(['high-value' for _ in range(20000)])\n",
    "df_hv['prev_purchase_count'] = np.random.poisson(0.7, 20000)"
   ]
  },
  {
   "cell_type": "code",
   "execution_count": 42,
   "metadata": {},
   "outputs": [
    {
     "data": {
      "text/html": [
       "<div>\n",
       "<style scoped>\n",
       "    .dataframe tbody tr th:only-of-type {\n",
       "        vertical-align: middle;\n",
       "    }\n",
       "\n",
       "    .dataframe tbody tr th {\n",
       "        vertical-align: top;\n",
       "    }\n",
       "\n",
       "    .dataframe thead th {\n",
       "        text-align: right;\n",
       "    }\n",
       "</style>\n",
       "<table border=\"1\" class=\"dataframe\">\n",
       "  <thead>\n",
       "    <tr style=\"text-align: right;\">\n",
       "      <th></th>\n",
       "      <th>customer_id</th>\n",
       "      <th>segment</th>\n",
       "      <th>prev_purchase_count</th>\n",
       "    </tr>\n",
       "  </thead>\n",
       "  <tbody>\n",
       "    <tr>\n",
       "      <td>0</td>\n",
       "      <td>0</td>\n",
       "      <td>high-value</td>\n",
       "      <td>0</td>\n",
       "    </tr>\n",
       "    <tr>\n",
       "      <td>1</td>\n",
       "      <td>1</td>\n",
       "      <td>high-value</td>\n",
       "      <td>1</td>\n",
       "    </tr>\n",
       "    <tr>\n",
       "      <td>2</td>\n",
       "      <td>2</td>\n",
       "      <td>high-value</td>\n",
       "      <td>1</td>\n",
       "    </tr>\n",
       "    <tr>\n",
       "      <td>3</td>\n",
       "      <td>3</td>\n",
       "      <td>high-value</td>\n",
       "      <td>0</td>\n",
       "    </tr>\n",
       "    <tr>\n",
       "      <td>4</td>\n",
       "      <td>4</td>\n",
       "      <td>high-value</td>\n",
       "      <td>0</td>\n",
       "    </tr>\n",
       "  </tbody>\n",
       "</table>\n",
       "</div>"
      ],
      "text/plain": [
       "   customer_id     segment  prev_purchase_count\n",
       "0            0  high-value                    0\n",
       "1            1  high-value                    1\n",
       "2            2  high-value                    1\n",
       "3            3  high-value                    0\n",
       "4            4  high-value                    0"
      ]
     },
     "execution_count": 42,
     "metadata": {},
     "output_type": "execute_result"
    }
   ],
   "source": [
    "df_hv.head()"
   ]
  },
  {
   "cell_type": "code",
   "execution_count": 43,
   "metadata": {},
   "outputs": [],
   "source": [
    "purchase_mean = df_hv.prev_purchase_count.mean()\n",
    "purchase_std = df_hv.prev_purchase_count.std()"
   ]
  },
  {
   "cell_type": "code",
   "execution_count": 44,
   "metadata": {},
   "outputs": [
    {
     "name": "stdout",
     "output_type": "stream",
     "text": [
      "0.6976 0.8291\n"
     ]
    }
   ],
   "source": [
    "print(np.round(purchase_mean,4),np.round(purchase_std,4))"
   ]
  },
  {
   "cell_type": "code",
   "execution_count": 45,
   "metadata": {},
   "outputs": [],
   "source": [
    "effect_size = (0.75 - purchase_mean)/purchase_std"
   ]
  },
  {
   "cell_type": "code",
   "execution_count": 46,
   "metadata": {},
   "outputs": [],
   "source": [
    "alpha = 0.05\n",
    "power = 0.8\n",
    "ratio = 1"
   ]
  },
  {
   "cell_type": "code",
   "execution_count": 47,
   "metadata": {},
   "outputs": [
    {
     "name": "stdout",
     "output_type": "stream",
     "text": [
      "3931.385916869039\n"
     ]
    }
   ],
   "source": [
    "ss_result = ss_analysis.solve_power(effect_size=effect_size, power=power,alpha=alpha, ratio=ratio , nobs1=None) \n",
    "print(ss_result)"
   ]
  },
  {
   "cell_type": "code",
   "execution_count": 48,
   "metadata": {},
   "outputs": [],
   "source": [
    "def calculate_sample_size(c_data, column_name, target,ratio):\n",
    "    value_mean = c_data[column_name].mean()\n",
    "    value_std = c_data[column_name].std()\n",
    "    \n",
    "    value_target = value_mean * target\n",
    "    \n",
    "    effect_size = (value_target - value_mean)/value_std\n",
    "    \n",
    "    power = 0.8\n",
    "    alpha = 0.05\n",
    "    ss_result = ss_analysis.solve_power(effect_size=effect_size, power=power,alpha=alpha, ratio=ratio , nobs1=None) \n",
    "    print(int(ss_result))"
   ]
  },
  {
   "cell_type": "code",
   "execution_count": 49,
   "metadata": {},
   "outputs": [
    {
     "name": "stdout",
     "output_type": "stream",
     "text": [
      "8871\n"
     ]
    }
   ],
   "source": [
    "calculate_sample_size(df_hv, 'prev_purchase_count', 1.05,1)"
   ]
  },
  {
   "cell_type": "code",
   "execution_count": null,
   "metadata": {},
   "outputs": [],
   "source": []
  }
 ],
 "metadata": {
  "kernelspec": {
   "display_name": "Python 3",
   "language": "python",
   "name": "python3"
  },
  "language_info": {
   "codemirror_mode": {
    "name": "ipython",
    "version": 3
   },
   "file_extension": ".py",
   "mimetype": "text/x-python",
   "name": "python",
   "nbconvert_exporter": "python",
   "pygments_lexer": "ipython3",
   "version": "3.7.4"
  }
 },
 "nbformat": 4,
 "nbformat_minor": 2
}
